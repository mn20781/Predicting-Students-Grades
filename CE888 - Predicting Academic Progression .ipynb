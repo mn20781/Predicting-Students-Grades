{
 "cells": [
  {
   "cell_type": "code",
   "execution_count": 24,
   "id": "728085ec",
   "metadata": {
    "ExecuteTime": {
     "end_time": "2022-11-18T13:24:57.242829Z",
     "start_time": "2022-11-18T13:24:53.515404Z"
    }
   },
   "outputs": [],
   "source": [
    "%matplotlib inline "
   ]
  },
  {
   "cell_type": "code",
   "execution_count": 25,
   "id": "49270261",
   "metadata": {
    "ExecuteTime": {
     "end_time": "2022-11-18T13:25:33.204287Z",
     "start_time": "2022-11-18T13:24:58.300182Z"
    }
   },
   "outputs": [],
   "source": [
    "import os, shutil\n",
    "import pandas as pd\n",
    "import numpy as np \n",
    "import matplotlib.pyplot as plt\n",
    "import seaborn as sns\n",
    "from pandas.plotting import scatter_matrix\n",
    "from sklearn import preprocessing \n",
    "from sklearn.preprocessing import LabelEncoder\n",
    "from sklearn.model_selection import train_test_split\n",
    "from pandas.plotting import scatter_matrix\n",
    "from sklearn.ensemble import RandomForestClassifier\n",
    "from sklearn.metrics import accuracy_score\n",
    "from sklearn import metrics\n",
    "from sklearn.metrics import confusion_matrix\n",
    "from sklearn.preprocessing import OneHotEncoder"
   ]
  },
  {
   "cell_type": "code",
   "execution_count": 26,
   "id": "f328aed6",
   "metadata": {
    "ExecuteTime": {
     "end_time": "2022-11-18T13:25:36.594472Z",
     "start_time": "2022-11-18T13:25:36.118371Z"
    }
   },
   "outputs": [],
   "source": [
    "url = 'https://raw.githubusercontent.com/mn20781/Predicting-Students-Grades/main/data.csv'\n",
    "\n",
    "data = pd.read_csv(url, header=0,skiprows=0, delimiter = ';')   "
   ]
  },
  {
   "cell_type": "code",
   "execution_count": 27,
   "id": "1b17a065",
   "metadata": {
    "ExecuteTime": {
     "end_time": "2022-11-18T13:25:37.633519Z",
     "start_time": "2022-11-18T13:25:37.349170Z"
    }
   },
   "outputs": [
    {
     "data": {
      "text/html": [
       "<div>\n",
       "<style scoped>\n",
       "    .dataframe tbody tr th:only-of-type {\n",
       "        vertical-align: middle;\n",
       "    }\n",
       "\n",
       "    .dataframe tbody tr th {\n",
       "        vertical-align: top;\n",
       "    }\n",
       "\n",
       "    .dataframe thead th {\n",
       "        text-align: right;\n",
       "    }\n",
       "</style>\n",
       "<table border=\"1\" class=\"dataframe\">\n",
       "  <thead>\n",
       "    <tr style=\"text-align: right;\">\n",
       "      <th></th>\n",
       "      <th>Marital status</th>\n",
       "      <th>Application mode</th>\n",
       "      <th>Application order</th>\n",
       "      <th>Course</th>\n",
       "      <th>Daytime/evening attendance\\t</th>\n",
       "      <th>Previous qualification</th>\n",
       "      <th>Previous qualification (grade)</th>\n",
       "      <th>Nacionality</th>\n",
       "      <th>Mother's qualification</th>\n",
       "      <th>Father's qualification</th>\n",
       "      <th>...</th>\n",
       "      <th>Curricular units 2nd sem (credited)</th>\n",
       "      <th>Curricular units 2nd sem (enrolled)</th>\n",
       "      <th>Curricular units 2nd sem (evaluations)</th>\n",
       "      <th>Curricular units 2nd sem (approved)</th>\n",
       "      <th>Curricular units 2nd sem (grade)</th>\n",
       "      <th>Curricular units 2nd sem (without evaluations)</th>\n",
       "      <th>Unemployment rate</th>\n",
       "      <th>Inflation rate</th>\n",
       "      <th>GDP</th>\n",
       "      <th>Target</th>\n",
       "    </tr>\n",
       "  </thead>\n",
       "  <tbody>\n",
       "    <tr>\n",
       "      <th>0</th>\n",
       "      <td>1</td>\n",
       "      <td>17</td>\n",
       "      <td>5</td>\n",
       "      <td>171</td>\n",
       "      <td>1</td>\n",
       "      <td>1</td>\n",
       "      <td>122.0</td>\n",
       "      <td>1</td>\n",
       "      <td>19</td>\n",
       "      <td>12</td>\n",
       "      <td>...</td>\n",
       "      <td>0</td>\n",
       "      <td>0</td>\n",
       "      <td>0</td>\n",
       "      <td>0</td>\n",
       "      <td>0.000000</td>\n",
       "      <td>0</td>\n",
       "      <td>10.8</td>\n",
       "      <td>1.4</td>\n",
       "      <td>1.74</td>\n",
       "      <td>Dropout</td>\n",
       "    </tr>\n",
       "    <tr>\n",
       "      <th>1</th>\n",
       "      <td>1</td>\n",
       "      <td>15</td>\n",
       "      <td>1</td>\n",
       "      <td>9254</td>\n",
       "      <td>1</td>\n",
       "      <td>1</td>\n",
       "      <td>160.0</td>\n",
       "      <td>1</td>\n",
       "      <td>1</td>\n",
       "      <td>3</td>\n",
       "      <td>...</td>\n",
       "      <td>0</td>\n",
       "      <td>6</td>\n",
       "      <td>6</td>\n",
       "      <td>6</td>\n",
       "      <td>13.666667</td>\n",
       "      <td>0</td>\n",
       "      <td>13.9</td>\n",
       "      <td>-0.3</td>\n",
       "      <td>0.79</td>\n",
       "      <td>Graduate</td>\n",
       "    </tr>\n",
       "    <tr>\n",
       "      <th>2</th>\n",
       "      <td>1</td>\n",
       "      <td>1</td>\n",
       "      <td>5</td>\n",
       "      <td>9070</td>\n",
       "      <td>1</td>\n",
       "      <td>1</td>\n",
       "      <td>122.0</td>\n",
       "      <td>1</td>\n",
       "      <td>37</td>\n",
       "      <td>37</td>\n",
       "      <td>...</td>\n",
       "      <td>0</td>\n",
       "      <td>6</td>\n",
       "      <td>0</td>\n",
       "      <td>0</td>\n",
       "      <td>0.000000</td>\n",
       "      <td>0</td>\n",
       "      <td>10.8</td>\n",
       "      <td>1.4</td>\n",
       "      <td>1.74</td>\n",
       "      <td>Dropout</td>\n",
       "    </tr>\n",
       "    <tr>\n",
       "      <th>3</th>\n",
       "      <td>1</td>\n",
       "      <td>17</td>\n",
       "      <td>2</td>\n",
       "      <td>9773</td>\n",
       "      <td>1</td>\n",
       "      <td>1</td>\n",
       "      <td>122.0</td>\n",
       "      <td>1</td>\n",
       "      <td>38</td>\n",
       "      <td>37</td>\n",
       "      <td>...</td>\n",
       "      <td>0</td>\n",
       "      <td>6</td>\n",
       "      <td>10</td>\n",
       "      <td>5</td>\n",
       "      <td>12.400000</td>\n",
       "      <td>0</td>\n",
       "      <td>9.4</td>\n",
       "      <td>-0.8</td>\n",
       "      <td>-3.12</td>\n",
       "      <td>Graduate</td>\n",
       "    </tr>\n",
       "    <tr>\n",
       "      <th>4</th>\n",
       "      <td>2</td>\n",
       "      <td>39</td>\n",
       "      <td>1</td>\n",
       "      <td>8014</td>\n",
       "      <td>0</td>\n",
       "      <td>1</td>\n",
       "      <td>100.0</td>\n",
       "      <td>1</td>\n",
       "      <td>37</td>\n",
       "      <td>38</td>\n",
       "      <td>...</td>\n",
       "      <td>0</td>\n",
       "      <td>6</td>\n",
       "      <td>6</td>\n",
       "      <td>6</td>\n",
       "      <td>13.000000</td>\n",
       "      <td>0</td>\n",
       "      <td>13.9</td>\n",
       "      <td>-0.3</td>\n",
       "      <td>0.79</td>\n",
       "      <td>Graduate</td>\n",
       "    </tr>\n",
       "    <tr>\n",
       "      <th>...</th>\n",
       "      <td>...</td>\n",
       "      <td>...</td>\n",
       "      <td>...</td>\n",
       "      <td>...</td>\n",
       "      <td>...</td>\n",
       "      <td>...</td>\n",
       "      <td>...</td>\n",
       "      <td>...</td>\n",
       "      <td>...</td>\n",
       "      <td>...</td>\n",
       "      <td>...</td>\n",
       "      <td>...</td>\n",
       "      <td>...</td>\n",
       "      <td>...</td>\n",
       "      <td>...</td>\n",
       "      <td>...</td>\n",
       "      <td>...</td>\n",
       "      <td>...</td>\n",
       "      <td>...</td>\n",
       "      <td>...</td>\n",
       "      <td>...</td>\n",
       "    </tr>\n",
       "    <tr>\n",
       "      <th>4419</th>\n",
       "      <td>1</td>\n",
       "      <td>1</td>\n",
       "      <td>6</td>\n",
       "      <td>9773</td>\n",
       "      <td>1</td>\n",
       "      <td>1</td>\n",
       "      <td>125.0</td>\n",
       "      <td>1</td>\n",
       "      <td>1</td>\n",
       "      <td>1</td>\n",
       "      <td>...</td>\n",
       "      <td>0</td>\n",
       "      <td>6</td>\n",
       "      <td>8</td>\n",
       "      <td>5</td>\n",
       "      <td>12.666667</td>\n",
       "      <td>0</td>\n",
       "      <td>15.5</td>\n",
       "      <td>2.8</td>\n",
       "      <td>-4.06</td>\n",
       "      <td>Graduate</td>\n",
       "    </tr>\n",
       "    <tr>\n",
       "      <th>4420</th>\n",
       "      <td>1</td>\n",
       "      <td>1</td>\n",
       "      <td>2</td>\n",
       "      <td>9773</td>\n",
       "      <td>1</td>\n",
       "      <td>1</td>\n",
       "      <td>120.0</td>\n",
       "      <td>105</td>\n",
       "      <td>1</td>\n",
       "      <td>1</td>\n",
       "      <td>...</td>\n",
       "      <td>0</td>\n",
       "      <td>6</td>\n",
       "      <td>6</td>\n",
       "      <td>2</td>\n",
       "      <td>11.000000</td>\n",
       "      <td>0</td>\n",
       "      <td>11.1</td>\n",
       "      <td>0.6</td>\n",
       "      <td>2.02</td>\n",
       "      <td>Dropout</td>\n",
       "    </tr>\n",
       "    <tr>\n",
       "      <th>4421</th>\n",
       "      <td>1</td>\n",
       "      <td>1</td>\n",
       "      <td>1</td>\n",
       "      <td>9500</td>\n",
       "      <td>1</td>\n",
       "      <td>1</td>\n",
       "      <td>154.0</td>\n",
       "      <td>1</td>\n",
       "      <td>37</td>\n",
       "      <td>37</td>\n",
       "      <td>...</td>\n",
       "      <td>0</td>\n",
       "      <td>8</td>\n",
       "      <td>9</td>\n",
       "      <td>1</td>\n",
       "      <td>13.500000</td>\n",
       "      <td>0</td>\n",
       "      <td>13.9</td>\n",
       "      <td>-0.3</td>\n",
       "      <td>0.79</td>\n",
       "      <td>Dropout</td>\n",
       "    </tr>\n",
       "    <tr>\n",
       "      <th>4422</th>\n",
       "      <td>1</td>\n",
       "      <td>1</td>\n",
       "      <td>1</td>\n",
       "      <td>9147</td>\n",
       "      <td>1</td>\n",
       "      <td>1</td>\n",
       "      <td>180.0</td>\n",
       "      <td>1</td>\n",
       "      <td>37</td>\n",
       "      <td>37</td>\n",
       "      <td>...</td>\n",
       "      <td>0</td>\n",
       "      <td>5</td>\n",
       "      <td>6</td>\n",
       "      <td>5</td>\n",
       "      <td>12.000000</td>\n",
       "      <td>0</td>\n",
       "      <td>9.4</td>\n",
       "      <td>-0.8</td>\n",
       "      <td>-3.12</td>\n",
       "      <td>Graduate</td>\n",
       "    </tr>\n",
       "    <tr>\n",
       "      <th>4423</th>\n",
       "      <td>1</td>\n",
       "      <td>10</td>\n",
       "      <td>1</td>\n",
       "      <td>9773</td>\n",
       "      <td>1</td>\n",
       "      <td>1</td>\n",
       "      <td>152.0</td>\n",
       "      <td>22</td>\n",
       "      <td>38</td>\n",
       "      <td>37</td>\n",
       "      <td>...</td>\n",
       "      <td>0</td>\n",
       "      <td>6</td>\n",
       "      <td>6</td>\n",
       "      <td>6</td>\n",
       "      <td>13.000000</td>\n",
       "      <td>0</td>\n",
       "      <td>12.7</td>\n",
       "      <td>3.7</td>\n",
       "      <td>-1.70</td>\n",
       "      <td>Graduate</td>\n",
       "    </tr>\n",
       "  </tbody>\n",
       "</table>\n",
       "<p>4424 rows × 37 columns</p>\n",
       "</div>"
      ],
      "text/plain": [
       "      Marital status  Application mode  Application order  Course  \\\n",
       "0                  1                17                  5     171   \n",
       "1                  1                15                  1    9254   \n",
       "2                  1                 1                  5    9070   \n",
       "3                  1                17                  2    9773   \n",
       "4                  2                39                  1    8014   \n",
       "...              ...               ...                ...     ...   \n",
       "4419               1                 1                  6    9773   \n",
       "4420               1                 1                  2    9773   \n",
       "4421               1                 1                  1    9500   \n",
       "4422               1                 1                  1    9147   \n",
       "4423               1                10                  1    9773   \n",
       "\n",
       "      Daytime/evening attendance\\t  Previous qualification  \\\n",
       "0                                1                       1   \n",
       "1                                1                       1   \n",
       "2                                1                       1   \n",
       "3                                1                       1   \n",
       "4                                0                       1   \n",
       "...                            ...                     ...   \n",
       "4419                             1                       1   \n",
       "4420                             1                       1   \n",
       "4421                             1                       1   \n",
       "4422                             1                       1   \n",
       "4423                             1                       1   \n",
       "\n",
       "      Previous qualification (grade)  Nacionality  Mother's qualification  \\\n",
       "0                              122.0            1                      19   \n",
       "1                              160.0            1                       1   \n",
       "2                              122.0            1                      37   \n",
       "3                              122.0            1                      38   \n",
       "4                              100.0            1                      37   \n",
       "...                              ...          ...                     ...   \n",
       "4419                           125.0            1                       1   \n",
       "4420                           120.0          105                       1   \n",
       "4421                           154.0            1                      37   \n",
       "4422                           180.0            1                      37   \n",
       "4423                           152.0           22                      38   \n",
       "\n",
       "      Father's qualification  ...  Curricular units 2nd sem (credited)  \\\n",
       "0                         12  ...                                    0   \n",
       "1                          3  ...                                    0   \n",
       "2                         37  ...                                    0   \n",
       "3                         37  ...                                    0   \n",
       "4                         38  ...                                    0   \n",
       "...                      ...  ...                                  ...   \n",
       "4419                       1  ...                                    0   \n",
       "4420                       1  ...                                    0   \n",
       "4421                      37  ...                                    0   \n",
       "4422                      37  ...                                    0   \n",
       "4423                      37  ...                                    0   \n",
       "\n",
       "      Curricular units 2nd sem (enrolled)  \\\n",
       "0                                       0   \n",
       "1                                       6   \n",
       "2                                       6   \n",
       "3                                       6   \n",
       "4                                       6   \n",
       "...                                   ...   \n",
       "4419                                    6   \n",
       "4420                                    6   \n",
       "4421                                    8   \n",
       "4422                                    5   \n",
       "4423                                    6   \n",
       "\n",
       "      Curricular units 2nd sem (evaluations)  \\\n",
       "0                                          0   \n",
       "1                                          6   \n",
       "2                                          0   \n",
       "3                                         10   \n",
       "4                                          6   \n",
       "...                                      ...   \n",
       "4419                                       8   \n",
       "4420                                       6   \n",
       "4421                                       9   \n",
       "4422                                       6   \n",
       "4423                                       6   \n",
       "\n",
       "      Curricular units 2nd sem (approved)  Curricular units 2nd sem (grade)  \\\n",
       "0                                       0                          0.000000   \n",
       "1                                       6                         13.666667   \n",
       "2                                       0                          0.000000   \n",
       "3                                       5                         12.400000   \n",
       "4                                       6                         13.000000   \n",
       "...                                   ...                               ...   \n",
       "4419                                    5                         12.666667   \n",
       "4420                                    2                         11.000000   \n",
       "4421                                    1                         13.500000   \n",
       "4422                                    5                         12.000000   \n",
       "4423                                    6                         13.000000   \n",
       "\n",
       "      Curricular units 2nd sem (without evaluations)  Unemployment rate  \\\n",
       "0                                                  0               10.8   \n",
       "1                                                  0               13.9   \n",
       "2                                                  0               10.8   \n",
       "3                                                  0                9.4   \n",
       "4                                                  0               13.9   \n",
       "...                                              ...                ...   \n",
       "4419                                               0               15.5   \n",
       "4420                                               0               11.1   \n",
       "4421                                               0               13.9   \n",
       "4422                                               0                9.4   \n",
       "4423                                               0               12.7   \n",
       "\n",
       "      Inflation rate   GDP    Target  \n",
       "0                1.4  1.74   Dropout  \n",
       "1               -0.3  0.79  Graduate  \n",
       "2                1.4  1.74   Dropout  \n",
       "3               -0.8 -3.12  Graduate  \n",
       "4               -0.3  0.79  Graduate  \n",
       "...              ...   ...       ...  \n",
       "4419             2.8 -4.06  Graduate  \n",
       "4420             0.6  2.02   Dropout  \n",
       "4421            -0.3  0.79   Dropout  \n",
       "4422            -0.8 -3.12  Graduate  \n",
       "4423             3.7 -1.70  Graduate  \n",
       "\n",
       "[4424 rows x 37 columns]"
      ]
     },
     "execution_count": 27,
     "metadata": {},
     "output_type": "execute_result"
    }
   ],
   "source": [
    "data"
   ]
  },
  {
   "cell_type": "code",
   "execution_count": 28,
   "id": "d60a3199",
   "metadata": {
    "ExecuteTime": {
     "end_time": "2022-11-17T17:04:56.553533Z",
     "start_time": "2022-11-17T17:04:56.550847Z"
    }
   },
   "outputs": [],
   "source": [
    "#first we read the dataset \n",
    "#data = pd.read_csv('/Users/michael_temporary/downloads/data.csv',\n",
    "                   #header=0,skiprows=0, delimiter = ';')\n",
    "#data"
   ]
  },
  {
   "cell_type": "code",
   "execution_count": 29,
   "id": "90d377a2",
   "metadata": {
    "ExecuteTime": {
     "end_time": "2022-11-17T17:04:57.354632Z",
     "start_time": "2022-11-17T17:04:57.350756Z"
    }
   },
   "outputs": [
    {
     "data": {
      "text/plain": [
       "Index(['Marital status', 'Application mode', 'Application order', 'Course',\n",
       "       'Daytime/evening attendance\\t', 'Previous qualification',\n",
       "       'Previous qualification (grade)', 'Nacionality',\n",
       "       'Mother's qualification', 'Father's qualification',\n",
       "       'Mother's occupation', 'Father's occupation', 'Admission grade',\n",
       "       'Displaced', 'Educational special needs', 'Debtor',\n",
       "       'Tuition fees up to date', 'Gender', 'Scholarship holder',\n",
       "       'Age at enrollment', 'International',\n",
       "       'Curricular units 1st sem (credited)',\n",
       "       'Curricular units 1st sem (enrolled)',\n",
       "       'Curricular units 1st sem (evaluations)',\n",
       "       'Curricular units 1st sem (approved)',\n",
       "       'Curricular units 1st sem (grade)',\n",
       "       'Curricular units 1st sem (without evaluations)',\n",
       "       'Curricular units 2nd sem (credited)',\n",
       "       'Curricular units 2nd sem (enrolled)',\n",
       "       'Curricular units 2nd sem (evaluations)',\n",
       "       'Curricular units 2nd sem (approved)',\n",
       "       'Curricular units 2nd sem (grade)',\n",
       "       'Curricular units 2nd sem (without evaluations)', 'Unemployment rate',\n",
       "       'Inflation rate', 'GDP', 'Target'],\n",
       "      dtype='object')"
      ]
     },
     "execution_count": 29,
     "metadata": {},
     "output_type": "execute_result"
    }
   ],
   "source": [
    "data.columns"
   ]
  },
  {
   "cell_type": "code",
   "execution_count": 30,
   "id": "80063552",
   "metadata": {
    "ExecuteTime": {
     "end_time": "2022-11-17T17:04:59.852728Z",
     "start_time": "2022-11-17T17:04:59.850176Z"
    }
   },
   "outputs": [],
   "source": [
    "#data.isnan()"
   ]
  },
  {
   "cell_type": "code",
   "execution_count": 31,
   "id": "2bf4952c",
   "metadata": {
    "ExecuteTime": {
     "end_time": "2022-11-17T17:05:00.433083Z",
     "start_time": "2022-11-17T17:05:00.418506Z"
    }
   },
   "outputs": [
    {
     "data": {
      "text/html": [
       "<div>\n",
       "<style scoped>\n",
       "    .dataframe tbody tr th:only-of-type {\n",
       "        vertical-align: middle;\n",
       "    }\n",
       "\n",
       "    .dataframe tbody tr th {\n",
       "        vertical-align: top;\n",
       "    }\n",
       "\n",
       "    .dataframe thead th {\n",
       "        text-align: right;\n",
       "    }\n",
       "</style>\n",
       "<table border=\"1\" class=\"dataframe\">\n",
       "  <thead>\n",
       "    <tr style=\"text-align: right;\">\n",
       "      <th></th>\n",
       "      <th>Marital status</th>\n",
       "      <th>Application mode</th>\n",
       "      <th>Application order</th>\n",
       "      <th>Course</th>\n",
       "      <th>Daytime/evening attendance\\t</th>\n",
       "      <th>Previous qualification</th>\n",
       "      <th>Previous qualification (grade)</th>\n",
       "      <th>Nacionality</th>\n",
       "      <th>Mother's qualification</th>\n",
       "      <th>Father's qualification</th>\n",
       "      <th>...</th>\n",
       "      <th>Curricular units 2nd sem (credited)</th>\n",
       "      <th>Curricular units 2nd sem (enrolled)</th>\n",
       "      <th>Curricular units 2nd sem (evaluations)</th>\n",
       "      <th>Curricular units 2nd sem (approved)</th>\n",
       "      <th>Curricular units 2nd sem (grade)</th>\n",
       "      <th>Curricular units 2nd sem (without evaluations)</th>\n",
       "      <th>Unemployment rate</th>\n",
       "      <th>Inflation rate</th>\n",
       "      <th>GDP</th>\n",
       "      <th>Target</th>\n",
       "    </tr>\n",
       "  </thead>\n",
       "  <tbody>\n",
       "    <tr>\n",
       "      <th>0</th>\n",
       "      <td>1</td>\n",
       "      <td>17</td>\n",
       "      <td>5</td>\n",
       "      <td>171</td>\n",
       "      <td>1</td>\n",
       "      <td>1</td>\n",
       "      <td>122.0</td>\n",
       "      <td>1</td>\n",
       "      <td>19</td>\n",
       "      <td>12</td>\n",
       "      <td>...</td>\n",
       "      <td>0</td>\n",
       "      <td>0</td>\n",
       "      <td>0</td>\n",
       "      <td>0</td>\n",
       "      <td>0.000000</td>\n",
       "      <td>0</td>\n",
       "      <td>10.8</td>\n",
       "      <td>1.4</td>\n",
       "      <td>1.74</td>\n",
       "      <td>Dropout</td>\n",
       "    </tr>\n",
       "    <tr>\n",
       "      <th>1</th>\n",
       "      <td>1</td>\n",
       "      <td>15</td>\n",
       "      <td>1</td>\n",
       "      <td>9254</td>\n",
       "      <td>1</td>\n",
       "      <td>1</td>\n",
       "      <td>160.0</td>\n",
       "      <td>1</td>\n",
       "      <td>1</td>\n",
       "      <td>3</td>\n",
       "      <td>...</td>\n",
       "      <td>0</td>\n",
       "      <td>6</td>\n",
       "      <td>6</td>\n",
       "      <td>6</td>\n",
       "      <td>13.666667</td>\n",
       "      <td>0</td>\n",
       "      <td>13.9</td>\n",
       "      <td>-0.3</td>\n",
       "      <td>0.79</td>\n",
       "      <td>Graduate</td>\n",
       "    </tr>\n",
       "    <tr>\n",
       "      <th>2</th>\n",
       "      <td>1</td>\n",
       "      <td>1</td>\n",
       "      <td>5</td>\n",
       "      <td>9070</td>\n",
       "      <td>1</td>\n",
       "      <td>1</td>\n",
       "      <td>122.0</td>\n",
       "      <td>1</td>\n",
       "      <td>37</td>\n",
       "      <td>37</td>\n",
       "      <td>...</td>\n",
       "      <td>0</td>\n",
       "      <td>6</td>\n",
       "      <td>0</td>\n",
       "      <td>0</td>\n",
       "      <td>0.000000</td>\n",
       "      <td>0</td>\n",
       "      <td>10.8</td>\n",
       "      <td>1.4</td>\n",
       "      <td>1.74</td>\n",
       "      <td>Dropout</td>\n",
       "    </tr>\n",
       "    <tr>\n",
       "      <th>3</th>\n",
       "      <td>1</td>\n",
       "      <td>17</td>\n",
       "      <td>2</td>\n",
       "      <td>9773</td>\n",
       "      <td>1</td>\n",
       "      <td>1</td>\n",
       "      <td>122.0</td>\n",
       "      <td>1</td>\n",
       "      <td>38</td>\n",
       "      <td>37</td>\n",
       "      <td>...</td>\n",
       "      <td>0</td>\n",
       "      <td>6</td>\n",
       "      <td>10</td>\n",
       "      <td>5</td>\n",
       "      <td>12.400000</td>\n",
       "      <td>0</td>\n",
       "      <td>9.4</td>\n",
       "      <td>-0.8</td>\n",
       "      <td>-3.12</td>\n",
       "      <td>Graduate</td>\n",
       "    </tr>\n",
       "    <tr>\n",
       "      <th>4</th>\n",
       "      <td>2</td>\n",
       "      <td>39</td>\n",
       "      <td>1</td>\n",
       "      <td>8014</td>\n",
       "      <td>0</td>\n",
       "      <td>1</td>\n",
       "      <td>100.0</td>\n",
       "      <td>1</td>\n",
       "      <td>37</td>\n",
       "      <td>38</td>\n",
       "      <td>...</td>\n",
       "      <td>0</td>\n",
       "      <td>6</td>\n",
       "      <td>6</td>\n",
       "      <td>6</td>\n",
       "      <td>13.000000</td>\n",
       "      <td>0</td>\n",
       "      <td>13.9</td>\n",
       "      <td>-0.3</td>\n",
       "      <td>0.79</td>\n",
       "      <td>Graduate</td>\n",
       "    </tr>\n",
       "  </tbody>\n",
       "</table>\n",
       "<p>5 rows × 37 columns</p>\n",
       "</div>"
      ],
      "text/plain": [
       "   Marital status  Application mode  Application order  Course  \\\n",
       "0               1                17                  5     171   \n",
       "1               1                15                  1    9254   \n",
       "2               1                 1                  5    9070   \n",
       "3               1                17                  2    9773   \n",
       "4               2                39                  1    8014   \n",
       "\n",
       "   Daytime/evening attendance\\t  Previous qualification  \\\n",
       "0                             1                       1   \n",
       "1                             1                       1   \n",
       "2                             1                       1   \n",
       "3                             1                       1   \n",
       "4                             0                       1   \n",
       "\n",
       "   Previous qualification (grade)  Nacionality  Mother's qualification  \\\n",
       "0                           122.0            1                      19   \n",
       "1                           160.0            1                       1   \n",
       "2                           122.0            1                      37   \n",
       "3                           122.0            1                      38   \n",
       "4                           100.0            1                      37   \n",
       "\n",
       "   Father's qualification  ...  Curricular units 2nd sem (credited)  \\\n",
       "0                      12  ...                                    0   \n",
       "1                       3  ...                                    0   \n",
       "2                      37  ...                                    0   \n",
       "3                      37  ...                                    0   \n",
       "4                      38  ...                                    0   \n",
       "\n",
       "   Curricular units 2nd sem (enrolled)  \\\n",
       "0                                    0   \n",
       "1                                    6   \n",
       "2                                    6   \n",
       "3                                    6   \n",
       "4                                    6   \n",
       "\n",
       "   Curricular units 2nd sem (evaluations)  \\\n",
       "0                                       0   \n",
       "1                                       6   \n",
       "2                                       0   \n",
       "3                                      10   \n",
       "4                                       6   \n",
       "\n",
       "   Curricular units 2nd sem (approved)  Curricular units 2nd sem (grade)  \\\n",
       "0                                    0                          0.000000   \n",
       "1                                    6                         13.666667   \n",
       "2                                    0                          0.000000   \n",
       "3                                    5                         12.400000   \n",
       "4                                    6                         13.000000   \n",
       "\n",
       "   Curricular units 2nd sem (without evaluations)  Unemployment rate  \\\n",
       "0                                               0               10.8   \n",
       "1                                               0               13.9   \n",
       "2                                               0               10.8   \n",
       "3                                               0                9.4   \n",
       "4                                               0               13.9   \n",
       "\n",
       "   Inflation rate   GDP    Target  \n",
       "0             1.4  1.74   Dropout  \n",
       "1            -0.3  0.79  Graduate  \n",
       "2             1.4  1.74   Dropout  \n",
       "3            -0.8 -3.12  Graduate  \n",
       "4            -0.3  0.79  Graduate  \n",
       "\n",
       "[5 rows x 37 columns]"
      ]
     },
     "execution_count": 31,
     "metadata": {},
     "output_type": "execute_result"
    }
   ],
   "source": [
    "data.head(n=5)#check the data in the first 15 rows "
   ]
  },
  {
   "cell_type": "code",
   "execution_count": 32,
   "id": "287256bb",
   "metadata": {
    "ExecuteTime": {
     "end_time": "2022-11-17T17:05:02.435219Z",
     "start_time": "2022-11-17T17:05:02.430128Z"
    }
   },
   "outputs": [
    {
     "data": {
      "text/plain": [
       "1    3919\n",
       "2     379\n",
       "4      91\n",
       "5      25\n",
       "6       6\n",
       "3       4\n",
       "Name: Marital status, dtype: int64"
      ]
     },
     "execution_count": 32,
     "metadata": {},
     "output_type": "execute_result"
    }
   ],
   "source": [
    "data['Marital status'].value_counts() #some exploratory data analysis "
   ]
  },
  {
   "cell_type": "code",
   "execution_count": 33,
   "id": "04e01153",
   "metadata": {
    "ExecuteTime": {
     "end_time": "2022-11-17T17:05:03.856923Z",
     "start_time": "2022-11-17T17:05:03.850813Z"
    }
   },
   "outputs": [
    {
     "data": {
      "text/plain": [
       "9      1577\n",
       "4       817\n",
       "5       530\n",
       "3       351\n",
       "2       318\n",
       "7       272\n",
       "0       144\n",
       "1       102\n",
       "6        91\n",
       "90       70\n",
       "8        36\n",
       "191      26\n",
       "99       17\n",
       "194      11\n",
       "141       8\n",
       "123       7\n",
       "144       6\n",
       "175       5\n",
       "192       5\n",
       "193       4\n",
       "134       4\n",
       "10        4\n",
       "143       3\n",
       "151       3\n",
       "132       3\n",
       "152       2\n",
       "122       2\n",
       "153       2\n",
       "173       1\n",
       "125       1\n",
       "131       1\n",
       "171       1\n",
       "Name: Mother's occupation, dtype: int64"
      ]
     },
     "execution_count": 33,
     "metadata": {},
     "output_type": "execute_result"
    }
   ],
   "source": [
    "data[\"Mother's occupation\"].value_counts()"
   ]
  },
  {
   "cell_type": "code",
   "execution_count": 34,
   "id": "ef3d4778",
   "metadata": {
    "ExecuteTime": {
     "end_time": "2022-11-03T06:56:46.068057Z",
     "start_time": "2022-11-03T06:56:46.065433Z"
    }
   },
   "outputs": [],
   "source": [
    "target = data['Target']"
   ]
  },
  {
   "cell_type": "code",
   "execution_count": 12,
   "id": "506e7b22",
   "metadata": {
    "ExecuteTime": {
     "end_time": "2022-11-03T06:56:47.471122Z",
     "start_time": "2022-11-03T06:56:47.451961Z"
    }
   },
   "outputs": [
    {
     "data": {
      "text/html": [
       "<div>\n",
       "<style scoped>\n",
       "    .dataframe tbody tr th:only-of-type {\n",
       "        vertical-align: middle;\n",
       "    }\n",
       "\n",
       "    .dataframe tbody tr th {\n",
       "        vertical-align: top;\n",
       "    }\n",
       "\n",
       "    .dataframe thead th {\n",
       "        text-align: right;\n",
       "    }\n",
       "</style>\n",
       "<table border=\"1\" class=\"dataframe\">\n",
       "  <thead>\n",
       "    <tr style=\"text-align: right;\">\n",
       "      <th></th>\n",
       "      <th>Marital status</th>\n",
       "      <th>Application mode</th>\n",
       "      <th>Application order</th>\n",
       "      <th>Course</th>\n",
       "      <th>Daytime/evening attendance\\t</th>\n",
       "      <th>Previous qualification</th>\n",
       "      <th>Previous qualification (grade)</th>\n",
       "      <th>Nacionality</th>\n",
       "      <th>Mother's qualification</th>\n",
       "      <th>Father's qualification</th>\n",
       "      <th>...</th>\n",
       "      <th>Curricular units 2nd sem (credited)</th>\n",
       "      <th>Curricular units 2nd sem (enrolled)</th>\n",
       "      <th>Curricular units 2nd sem (evaluations)</th>\n",
       "      <th>Curricular units 2nd sem (approved)</th>\n",
       "      <th>Curricular units 2nd sem (grade)</th>\n",
       "      <th>Curricular units 2nd sem (without evaluations)</th>\n",
       "      <th>Unemployment rate</th>\n",
       "      <th>Inflation rate</th>\n",
       "      <th>GDP</th>\n",
       "      <th>Target</th>\n",
       "    </tr>\n",
       "  </thead>\n",
       "  <tbody>\n",
       "    <tr>\n",
       "      <th>0</th>\n",
       "      <td>1</td>\n",
       "      <td>17</td>\n",
       "      <td>5</td>\n",
       "      <td>171</td>\n",
       "      <td>1</td>\n",
       "      <td>1</td>\n",
       "      <td>122.0</td>\n",
       "      <td>1</td>\n",
       "      <td>19</td>\n",
       "      <td>12</td>\n",
       "      <td>...</td>\n",
       "      <td>0</td>\n",
       "      <td>0</td>\n",
       "      <td>0</td>\n",
       "      <td>0</td>\n",
       "      <td>0.000000</td>\n",
       "      <td>0</td>\n",
       "      <td>10.8</td>\n",
       "      <td>1.4</td>\n",
       "      <td>1.74</td>\n",
       "      <td>Dropout</td>\n",
       "    </tr>\n",
       "    <tr>\n",
       "      <th>1</th>\n",
       "      <td>1</td>\n",
       "      <td>15</td>\n",
       "      <td>1</td>\n",
       "      <td>9254</td>\n",
       "      <td>1</td>\n",
       "      <td>1</td>\n",
       "      <td>160.0</td>\n",
       "      <td>1</td>\n",
       "      <td>1</td>\n",
       "      <td>3</td>\n",
       "      <td>...</td>\n",
       "      <td>0</td>\n",
       "      <td>6</td>\n",
       "      <td>6</td>\n",
       "      <td>6</td>\n",
       "      <td>13.666667</td>\n",
       "      <td>0</td>\n",
       "      <td>13.9</td>\n",
       "      <td>-0.3</td>\n",
       "      <td>0.79</td>\n",
       "      <td>Graduate</td>\n",
       "    </tr>\n",
       "    <tr>\n",
       "      <th>2</th>\n",
       "      <td>1</td>\n",
       "      <td>1</td>\n",
       "      <td>5</td>\n",
       "      <td>9070</td>\n",
       "      <td>1</td>\n",
       "      <td>1</td>\n",
       "      <td>122.0</td>\n",
       "      <td>1</td>\n",
       "      <td>37</td>\n",
       "      <td>37</td>\n",
       "      <td>...</td>\n",
       "      <td>0</td>\n",
       "      <td>6</td>\n",
       "      <td>0</td>\n",
       "      <td>0</td>\n",
       "      <td>0.000000</td>\n",
       "      <td>0</td>\n",
       "      <td>10.8</td>\n",
       "      <td>1.4</td>\n",
       "      <td>1.74</td>\n",
       "      <td>Dropout</td>\n",
       "    </tr>\n",
       "    <tr>\n",
       "      <th>3</th>\n",
       "      <td>1</td>\n",
       "      <td>17</td>\n",
       "      <td>2</td>\n",
       "      <td>9773</td>\n",
       "      <td>1</td>\n",
       "      <td>1</td>\n",
       "      <td>122.0</td>\n",
       "      <td>1</td>\n",
       "      <td>38</td>\n",
       "      <td>37</td>\n",
       "      <td>...</td>\n",
       "      <td>0</td>\n",
       "      <td>6</td>\n",
       "      <td>10</td>\n",
       "      <td>5</td>\n",
       "      <td>12.400000</td>\n",
       "      <td>0</td>\n",
       "      <td>9.4</td>\n",
       "      <td>-0.8</td>\n",
       "      <td>-3.12</td>\n",
       "      <td>Graduate</td>\n",
       "    </tr>\n",
       "    <tr>\n",
       "      <th>4</th>\n",
       "      <td>2</td>\n",
       "      <td>39</td>\n",
       "      <td>1</td>\n",
       "      <td>8014</td>\n",
       "      <td>0</td>\n",
       "      <td>1</td>\n",
       "      <td>100.0</td>\n",
       "      <td>1</td>\n",
       "      <td>37</td>\n",
       "      <td>38</td>\n",
       "      <td>...</td>\n",
       "      <td>0</td>\n",
       "      <td>6</td>\n",
       "      <td>6</td>\n",
       "      <td>6</td>\n",
       "      <td>13.000000</td>\n",
       "      <td>0</td>\n",
       "      <td>13.9</td>\n",
       "      <td>-0.3</td>\n",
       "      <td>0.79</td>\n",
       "      <td>Graduate</td>\n",
       "    </tr>\n",
       "    <tr>\n",
       "      <th>...</th>\n",
       "      <td>...</td>\n",
       "      <td>...</td>\n",
       "      <td>...</td>\n",
       "      <td>...</td>\n",
       "      <td>...</td>\n",
       "      <td>...</td>\n",
       "      <td>...</td>\n",
       "      <td>...</td>\n",
       "      <td>...</td>\n",
       "      <td>...</td>\n",
       "      <td>...</td>\n",
       "      <td>...</td>\n",
       "      <td>...</td>\n",
       "      <td>...</td>\n",
       "      <td>...</td>\n",
       "      <td>...</td>\n",
       "      <td>...</td>\n",
       "      <td>...</td>\n",
       "      <td>...</td>\n",
       "      <td>...</td>\n",
       "      <td>...</td>\n",
       "    </tr>\n",
       "    <tr>\n",
       "      <th>4419</th>\n",
       "      <td>1</td>\n",
       "      <td>1</td>\n",
       "      <td>6</td>\n",
       "      <td>9773</td>\n",
       "      <td>1</td>\n",
       "      <td>1</td>\n",
       "      <td>125.0</td>\n",
       "      <td>1</td>\n",
       "      <td>1</td>\n",
       "      <td>1</td>\n",
       "      <td>...</td>\n",
       "      <td>0</td>\n",
       "      <td>6</td>\n",
       "      <td>8</td>\n",
       "      <td>5</td>\n",
       "      <td>12.666667</td>\n",
       "      <td>0</td>\n",
       "      <td>15.5</td>\n",
       "      <td>2.8</td>\n",
       "      <td>-4.06</td>\n",
       "      <td>Graduate</td>\n",
       "    </tr>\n",
       "    <tr>\n",
       "      <th>4420</th>\n",
       "      <td>1</td>\n",
       "      <td>1</td>\n",
       "      <td>2</td>\n",
       "      <td>9773</td>\n",
       "      <td>1</td>\n",
       "      <td>1</td>\n",
       "      <td>120.0</td>\n",
       "      <td>105</td>\n",
       "      <td>1</td>\n",
       "      <td>1</td>\n",
       "      <td>...</td>\n",
       "      <td>0</td>\n",
       "      <td>6</td>\n",
       "      <td>6</td>\n",
       "      <td>2</td>\n",
       "      <td>11.000000</td>\n",
       "      <td>0</td>\n",
       "      <td>11.1</td>\n",
       "      <td>0.6</td>\n",
       "      <td>2.02</td>\n",
       "      <td>Dropout</td>\n",
       "    </tr>\n",
       "    <tr>\n",
       "      <th>4421</th>\n",
       "      <td>1</td>\n",
       "      <td>1</td>\n",
       "      <td>1</td>\n",
       "      <td>9500</td>\n",
       "      <td>1</td>\n",
       "      <td>1</td>\n",
       "      <td>154.0</td>\n",
       "      <td>1</td>\n",
       "      <td>37</td>\n",
       "      <td>37</td>\n",
       "      <td>...</td>\n",
       "      <td>0</td>\n",
       "      <td>8</td>\n",
       "      <td>9</td>\n",
       "      <td>1</td>\n",
       "      <td>13.500000</td>\n",
       "      <td>0</td>\n",
       "      <td>13.9</td>\n",
       "      <td>-0.3</td>\n",
       "      <td>0.79</td>\n",
       "      <td>Dropout</td>\n",
       "    </tr>\n",
       "    <tr>\n",
       "      <th>4422</th>\n",
       "      <td>1</td>\n",
       "      <td>1</td>\n",
       "      <td>1</td>\n",
       "      <td>9147</td>\n",
       "      <td>1</td>\n",
       "      <td>1</td>\n",
       "      <td>180.0</td>\n",
       "      <td>1</td>\n",
       "      <td>37</td>\n",
       "      <td>37</td>\n",
       "      <td>...</td>\n",
       "      <td>0</td>\n",
       "      <td>5</td>\n",
       "      <td>6</td>\n",
       "      <td>5</td>\n",
       "      <td>12.000000</td>\n",
       "      <td>0</td>\n",
       "      <td>9.4</td>\n",
       "      <td>-0.8</td>\n",
       "      <td>-3.12</td>\n",
       "      <td>Graduate</td>\n",
       "    </tr>\n",
       "    <tr>\n",
       "      <th>4423</th>\n",
       "      <td>1</td>\n",
       "      <td>10</td>\n",
       "      <td>1</td>\n",
       "      <td>9773</td>\n",
       "      <td>1</td>\n",
       "      <td>1</td>\n",
       "      <td>152.0</td>\n",
       "      <td>22</td>\n",
       "      <td>38</td>\n",
       "      <td>37</td>\n",
       "      <td>...</td>\n",
       "      <td>0</td>\n",
       "      <td>6</td>\n",
       "      <td>6</td>\n",
       "      <td>6</td>\n",
       "      <td>13.000000</td>\n",
       "      <td>0</td>\n",
       "      <td>12.7</td>\n",
       "      <td>3.7</td>\n",
       "      <td>-1.70</td>\n",
       "      <td>Graduate</td>\n",
       "    </tr>\n",
       "  </tbody>\n",
       "</table>\n",
       "<p>4424 rows × 37 columns</p>\n",
       "</div>"
      ],
      "text/plain": [
       "      Marital status  Application mode  Application order  Course  \\\n",
       "0                  1                17                  5     171   \n",
       "1                  1                15                  1    9254   \n",
       "2                  1                 1                  5    9070   \n",
       "3                  1                17                  2    9773   \n",
       "4                  2                39                  1    8014   \n",
       "...              ...               ...                ...     ...   \n",
       "4419               1                 1                  6    9773   \n",
       "4420               1                 1                  2    9773   \n",
       "4421               1                 1                  1    9500   \n",
       "4422               1                 1                  1    9147   \n",
       "4423               1                10                  1    9773   \n",
       "\n",
       "      Daytime/evening attendance\\t  Previous qualification  \\\n",
       "0                                1                       1   \n",
       "1                                1                       1   \n",
       "2                                1                       1   \n",
       "3                                1                       1   \n",
       "4                                0                       1   \n",
       "...                            ...                     ...   \n",
       "4419                             1                       1   \n",
       "4420                             1                       1   \n",
       "4421                             1                       1   \n",
       "4422                             1                       1   \n",
       "4423                             1                       1   \n",
       "\n",
       "      Previous qualification (grade)  Nacionality  Mother's qualification  \\\n",
       "0                              122.0            1                      19   \n",
       "1                              160.0            1                       1   \n",
       "2                              122.0            1                      37   \n",
       "3                              122.0            1                      38   \n",
       "4                              100.0            1                      37   \n",
       "...                              ...          ...                     ...   \n",
       "4419                           125.0            1                       1   \n",
       "4420                           120.0          105                       1   \n",
       "4421                           154.0            1                      37   \n",
       "4422                           180.0            1                      37   \n",
       "4423                           152.0           22                      38   \n",
       "\n",
       "      Father's qualification  ...  Curricular units 2nd sem (credited)  \\\n",
       "0                         12  ...                                    0   \n",
       "1                          3  ...                                    0   \n",
       "2                         37  ...                                    0   \n",
       "3                         37  ...                                    0   \n",
       "4                         38  ...                                    0   \n",
       "...                      ...  ...                                  ...   \n",
       "4419                       1  ...                                    0   \n",
       "4420                       1  ...                                    0   \n",
       "4421                      37  ...                                    0   \n",
       "4422                      37  ...                                    0   \n",
       "4423                      37  ...                                    0   \n",
       "\n",
       "      Curricular units 2nd sem (enrolled)  \\\n",
       "0                                       0   \n",
       "1                                       6   \n",
       "2                                       6   \n",
       "3                                       6   \n",
       "4                                       6   \n",
       "...                                   ...   \n",
       "4419                                    6   \n",
       "4420                                    6   \n",
       "4421                                    8   \n",
       "4422                                    5   \n",
       "4423                                    6   \n",
       "\n",
       "      Curricular units 2nd sem (evaluations)  \\\n",
       "0                                          0   \n",
       "1                                          6   \n",
       "2                                          0   \n",
       "3                                         10   \n",
       "4                                          6   \n",
       "...                                      ...   \n",
       "4419                                       8   \n",
       "4420                                       6   \n",
       "4421                                       9   \n",
       "4422                                       6   \n",
       "4423                                       6   \n",
       "\n",
       "      Curricular units 2nd sem (approved)  Curricular units 2nd sem (grade)  \\\n",
       "0                                       0                          0.000000   \n",
       "1                                       6                         13.666667   \n",
       "2                                       0                          0.000000   \n",
       "3                                       5                         12.400000   \n",
       "4                                       6                         13.000000   \n",
       "...                                   ...                               ...   \n",
       "4419                                    5                         12.666667   \n",
       "4420                                    2                         11.000000   \n",
       "4421                                    1                         13.500000   \n",
       "4422                                    5                         12.000000   \n",
       "4423                                    6                         13.000000   \n",
       "\n",
       "      Curricular units 2nd sem (without evaluations)  Unemployment rate  \\\n",
       "0                                                  0               10.8   \n",
       "1                                                  0               13.9   \n",
       "2                                                  0               10.8   \n",
       "3                                                  0                9.4   \n",
       "4                                                  0               13.9   \n",
       "...                                              ...                ...   \n",
       "4419                                               0               15.5   \n",
       "4420                                               0               11.1   \n",
       "4421                                               0               13.9   \n",
       "4422                                               0                9.4   \n",
       "4423                                               0               12.7   \n",
       "\n",
       "      Inflation rate   GDP    Target  \n",
       "0                1.4  1.74   Dropout  \n",
       "1               -0.3  0.79  Graduate  \n",
       "2                1.4  1.74   Dropout  \n",
       "3               -0.8 -3.12  Graduate  \n",
       "4               -0.3  0.79  Graduate  \n",
       "...              ...   ...       ...  \n",
       "4419             2.8 -4.06  Graduate  \n",
       "4420             0.6  2.02   Dropout  \n",
       "4421            -0.3  0.79   Dropout  \n",
       "4422            -0.8 -3.12  Graduate  \n",
       "4423             3.7 -1.70  Graduate  \n",
       "\n",
       "[4424 rows x 37 columns]"
      ]
     },
     "execution_count": 12,
     "metadata": {},
     "output_type": "execute_result"
    }
   ],
   "source": [
    "#encoding the labels into numerical data, to then be one hot encoded \n",
    "#labelencoder = LabelEncoder()\n",
    "#data['Target Encoded']= labelencoder.fit_transform(data['Target'])\n",
    "data"
   ]
  },
  {
   "cell_type": "code",
   "execution_count": 13,
   "id": "3401a35d",
   "metadata": {
    "ExecuteTime": {
     "end_time": "2022-11-03T06:56:50.156523Z",
     "start_time": "2022-11-03T06:56:50.087867Z"
    }
   },
   "outputs": [],
   "source": [
    "from sklearn.impute import SimpleImputer\n",
    "\n",
    "imputer = SimpleImputer(strategy='median')"
   ]
  },
  {
   "cell_type": "code",
   "execution_count": 14,
   "id": "978d2cd1",
   "metadata": {
    "ExecuteTime": {
     "end_time": "2022-11-03T06:56:52.866084Z",
     "start_time": "2022-11-03T06:56:52.862101Z"
    }
   },
   "outputs": [],
   "source": [
    "school_num = data.drop('Target', axis =1)"
   ]
  },
  {
   "cell_type": "code",
   "execution_count": 15,
   "id": "573bd52e",
   "metadata": {
    "ExecuteTime": {
     "end_time": "2022-11-03T06:56:54.964888Z",
     "start_time": "2022-11-03T06:56:54.949969Z"
    }
   },
   "outputs": [
    {
     "data": {
      "text/plain": [
       "SimpleImputer(strategy='median')"
      ]
     },
     "execution_count": 15,
     "metadata": {},
     "output_type": "execute_result"
    }
   ],
   "source": [
    "imputer.fit(school_num)"
   ]
  },
  {
   "cell_type": "code",
   "execution_count": 16,
   "id": "5cdfb427",
   "metadata": {
    "ExecuteTime": {
     "end_time": "2022-11-03T06:56:57.516050Z",
     "start_time": "2022-11-03T06:56:57.512238Z"
    }
   },
   "outputs": [
    {
     "data": {
      "text/plain": [
       "array([1.00000000e+00, 1.70000000e+01, 1.00000000e+00, 9.23800000e+03,\n",
       "       1.00000000e+00, 1.00000000e+00, 1.33100000e+02, 1.00000000e+00,\n",
       "       1.90000000e+01, 1.90000000e+01, 5.00000000e+00, 7.00000000e+00,\n",
       "       1.26100000e+02, 1.00000000e+00, 0.00000000e+00, 0.00000000e+00,\n",
       "       1.00000000e+00, 0.00000000e+00, 0.00000000e+00, 2.00000000e+01,\n",
       "       0.00000000e+00, 0.00000000e+00, 6.00000000e+00, 8.00000000e+00,\n",
       "       5.00000000e+00, 1.22857143e+01, 0.00000000e+00, 0.00000000e+00,\n",
       "       6.00000000e+00, 8.00000000e+00, 5.00000000e+00, 1.22000000e+01,\n",
       "       0.00000000e+00, 1.11000000e+01, 1.40000000e+00, 3.20000000e-01])"
      ]
     },
     "execution_count": 16,
     "metadata": {},
     "output_type": "execute_result"
    }
   ],
   "source": [
    "imputer.statistics_"
   ]
  },
  {
   "cell_type": "code",
   "execution_count": 17,
   "id": "6a2d9639",
   "metadata": {
    "ExecuteTime": {
     "end_time": "2022-11-03T06:56:58.949274Z",
     "start_time": "2022-11-03T06:56:58.940707Z"
    }
   },
   "outputs": [
    {
     "data": {
      "text/plain": [
       "array([1.00000000e+00, 1.70000000e+01, 1.00000000e+00, 9.23800000e+03,\n",
       "       1.00000000e+00, 1.00000000e+00, 1.33100000e+02, 1.00000000e+00,\n",
       "       1.90000000e+01, 1.90000000e+01, 5.00000000e+00, 7.00000000e+00,\n",
       "       1.26100000e+02, 1.00000000e+00, 0.00000000e+00, 0.00000000e+00,\n",
       "       1.00000000e+00, 0.00000000e+00, 0.00000000e+00, 2.00000000e+01,\n",
       "       0.00000000e+00, 0.00000000e+00, 6.00000000e+00, 8.00000000e+00,\n",
       "       5.00000000e+00, 1.22857143e+01, 0.00000000e+00, 0.00000000e+00,\n",
       "       6.00000000e+00, 8.00000000e+00, 5.00000000e+00, 1.22000000e+01,\n",
       "       0.00000000e+00, 1.11000000e+01, 1.40000000e+00, 3.20000000e-01])"
      ]
     },
     "execution_count": 17,
     "metadata": {},
     "output_type": "execute_result"
    }
   ],
   "source": [
    "school_num.median().values"
   ]
  },
  {
   "cell_type": "code",
   "execution_count": 18,
   "id": "02a1d214",
   "metadata": {
    "ExecuteTime": {
     "end_time": "2022-11-03T06:57:00.882783Z",
     "start_time": "2022-11-03T06:57:00.866096Z"
    }
   },
   "outputs": [
    {
     "data": {
      "text/html": [
       "<div>\n",
       "<style scoped>\n",
       "    .dataframe tbody tr th:only-of-type {\n",
       "        vertical-align: middle;\n",
       "    }\n",
       "\n",
       "    .dataframe tbody tr th {\n",
       "        vertical-align: top;\n",
       "    }\n",
       "\n",
       "    .dataframe thead th {\n",
       "        text-align: right;\n",
       "    }\n",
       "</style>\n",
       "<table border=\"1\" class=\"dataframe\">\n",
       "  <thead>\n",
       "    <tr style=\"text-align: right;\">\n",
       "      <th></th>\n",
       "      <th>Marital status</th>\n",
       "      <th>Application mode</th>\n",
       "      <th>Application order</th>\n",
       "      <th>Course</th>\n",
       "      <th>Daytime/evening attendance\\t</th>\n",
       "      <th>Previous qualification</th>\n",
       "      <th>Previous qualification (grade)</th>\n",
       "      <th>Nacionality</th>\n",
       "      <th>Mother's qualification</th>\n",
       "      <th>Father's qualification</th>\n",
       "      <th>...</th>\n",
       "      <th>Curricular units 1st sem (without evaluations)</th>\n",
       "      <th>Curricular units 2nd sem (credited)</th>\n",
       "      <th>Curricular units 2nd sem (enrolled)</th>\n",
       "      <th>Curricular units 2nd sem (evaluations)</th>\n",
       "      <th>Curricular units 2nd sem (approved)</th>\n",
       "      <th>Curricular units 2nd sem (grade)</th>\n",
       "      <th>Curricular units 2nd sem (without evaluations)</th>\n",
       "      <th>Unemployment rate</th>\n",
       "      <th>Inflation rate</th>\n",
       "      <th>GDP</th>\n",
       "    </tr>\n",
       "  </thead>\n",
       "  <tbody>\n",
       "    <tr>\n",
       "      <th>0</th>\n",
       "      <td>1</td>\n",
       "      <td>17</td>\n",
       "      <td>5</td>\n",
       "      <td>171</td>\n",
       "      <td>1</td>\n",
       "      <td>1</td>\n",
       "      <td>122.0</td>\n",
       "      <td>1</td>\n",
       "      <td>19</td>\n",
       "      <td>12</td>\n",
       "      <td>...</td>\n",
       "      <td>0</td>\n",
       "      <td>0</td>\n",
       "      <td>0</td>\n",
       "      <td>0</td>\n",
       "      <td>0</td>\n",
       "      <td>0.000000</td>\n",
       "      <td>0</td>\n",
       "      <td>10.8</td>\n",
       "      <td>1.4</td>\n",
       "      <td>1.74</td>\n",
       "    </tr>\n",
       "    <tr>\n",
       "      <th>1</th>\n",
       "      <td>1</td>\n",
       "      <td>15</td>\n",
       "      <td>1</td>\n",
       "      <td>9254</td>\n",
       "      <td>1</td>\n",
       "      <td>1</td>\n",
       "      <td>160.0</td>\n",
       "      <td>1</td>\n",
       "      <td>1</td>\n",
       "      <td>3</td>\n",
       "      <td>...</td>\n",
       "      <td>0</td>\n",
       "      <td>0</td>\n",
       "      <td>6</td>\n",
       "      <td>6</td>\n",
       "      <td>6</td>\n",
       "      <td>13.666667</td>\n",
       "      <td>0</td>\n",
       "      <td>13.9</td>\n",
       "      <td>-0.3</td>\n",
       "      <td>0.79</td>\n",
       "    </tr>\n",
       "    <tr>\n",
       "      <th>2</th>\n",
       "      <td>1</td>\n",
       "      <td>1</td>\n",
       "      <td>5</td>\n",
       "      <td>9070</td>\n",
       "      <td>1</td>\n",
       "      <td>1</td>\n",
       "      <td>122.0</td>\n",
       "      <td>1</td>\n",
       "      <td>37</td>\n",
       "      <td>37</td>\n",
       "      <td>...</td>\n",
       "      <td>0</td>\n",
       "      <td>0</td>\n",
       "      <td>6</td>\n",
       "      <td>0</td>\n",
       "      <td>0</td>\n",
       "      <td>0.000000</td>\n",
       "      <td>0</td>\n",
       "      <td>10.8</td>\n",
       "      <td>1.4</td>\n",
       "      <td>1.74</td>\n",
       "    </tr>\n",
       "    <tr>\n",
       "      <th>3</th>\n",
       "      <td>1</td>\n",
       "      <td>17</td>\n",
       "      <td>2</td>\n",
       "      <td>9773</td>\n",
       "      <td>1</td>\n",
       "      <td>1</td>\n",
       "      <td>122.0</td>\n",
       "      <td>1</td>\n",
       "      <td>38</td>\n",
       "      <td>37</td>\n",
       "      <td>...</td>\n",
       "      <td>0</td>\n",
       "      <td>0</td>\n",
       "      <td>6</td>\n",
       "      <td>10</td>\n",
       "      <td>5</td>\n",
       "      <td>12.400000</td>\n",
       "      <td>0</td>\n",
       "      <td>9.4</td>\n",
       "      <td>-0.8</td>\n",
       "      <td>-3.12</td>\n",
       "    </tr>\n",
       "    <tr>\n",
       "      <th>4</th>\n",
       "      <td>2</td>\n",
       "      <td>39</td>\n",
       "      <td>1</td>\n",
       "      <td>8014</td>\n",
       "      <td>0</td>\n",
       "      <td>1</td>\n",
       "      <td>100.0</td>\n",
       "      <td>1</td>\n",
       "      <td>37</td>\n",
       "      <td>38</td>\n",
       "      <td>...</td>\n",
       "      <td>0</td>\n",
       "      <td>0</td>\n",
       "      <td>6</td>\n",
       "      <td>6</td>\n",
       "      <td>6</td>\n",
       "      <td>13.000000</td>\n",
       "      <td>0</td>\n",
       "      <td>13.9</td>\n",
       "      <td>-0.3</td>\n",
       "      <td>0.79</td>\n",
       "    </tr>\n",
       "    <tr>\n",
       "      <th>...</th>\n",
       "      <td>...</td>\n",
       "      <td>...</td>\n",
       "      <td>...</td>\n",
       "      <td>...</td>\n",
       "      <td>...</td>\n",
       "      <td>...</td>\n",
       "      <td>...</td>\n",
       "      <td>...</td>\n",
       "      <td>...</td>\n",
       "      <td>...</td>\n",
       "      <td>...</td>\n",
       "      <td>...</td>\n",
       "      <td>...</td>\n",
       "      <td>...</td>\n",
       "      <td>...</td>\n",
       "      <td>...</td>\n",
       "      <td>...</td>\n",
       "      <td>...</td>\n",
       "      <td>...</td>\n",
       "      <td>...</td>\n",
       "      <td>...</td>\n",
       "    </tr>\n",
       "    <tr>\n",
       "      <th>4419</th>\n",
       "      <td>1</td>\n",
       "      <td>1</td>\n",
       "      <td>6</td>\n",
       "      <td>9773</td>\n",
       "      <td>1</td>\n",
       "      <td>1</td>\n",
       "      <td>125.0</td>\n",
       "      <td>1</td>\n",
       "      <td>1</td>\n",
       "      <td>1</td>\n",
       "      <td>...</td>\n",
       "      <td>0</td>\n",
       "      <td>0</td>\n",
       "      <td>6</td>\n",
       "      <td>8</td>\n",
       "      <td>5</td>\n",
       "      <td>12.666667</td>\n",
       "      <td>0</td>\n",
       "      <td>15.5</td>\n",
       "      <td>2.8</td>\n",
       "      <td>-4.06</td>\n",
       "    </tr>\n",
       "    <tr>\n",
       "      <th>4420</th>\n",
       "      <td>1</td>\n",
       "      <td>1</td>\n",
       "      <td>2</td>\n",
       "      <td>9773</td>\n",
       "      <td>1</td>\n",
       "      <td>1</td>\n",
       "      <td>120.0</td>\n",
       "      <td>105</td>\n",
       "      <td>1</td>\n",
       "      <td>1</td>\n",
       "      <td>...</td>\n",
       "      <td>0</td>\n",
       "      <td>0</td>\n",
       "      <td>6</td>\n",
       "      <td>6</td>\n",
       "      <td>2</td>\n",
       "      <td>11.000000</td>\n",
       "      <td>0</td>\n",
       "      <td>11.1</td>\n",
       "      <td>0.6</td>\n",
       "      <td>2.02</td>\n",
       "    </tr>\n",
       "    <tr>\n",
       "      <th>4421</th>\n",
       "      <td>1</td>\n",
       "      <td>1</td>\n",
       "      <td>1</td>\n",
       "      <td>9500</td>\n",
       "      <td>1</td>\n",
       "      <td>1</td>\n",
       "      <td>154.0</td>\n",
       "      <td>1</td>\n",
       "      <td>37</td>\n",
       "      <td>37</td>\n",
       "      <td>...</td>\n",
       "      <td>0</td>\n",
       "      <td>0</td>\n",
       "      <td>8</td>\n",
       "      <td>9</td>\n",
       "      <td>1</td>\n",
       "      <td>13.500000</td>\n",
       "      <td>0</td>\n",
       "      <td>13.9</td>\n",
       "      <td>-0.3</td>\n",
       "      <td>0.79</td>\n",
       "    </tr>\n",
       "    <tr>\n",
       "      <th>4422</th>\n",
       "      <td>1</td>\n",
       "      <td>1</td>\n",
       "      <td>1</td>\n",
       "      <td>9147</td>\n",
       "      <td>1</td>\n",
       "      <td>1</td>\n",
       "      <td>180.0</td>\n",
       "      <td>1</td>\n",
       "      <td>37</td>\n",
       "      <td>37</td>\n",
       "      <td>...</td>\n",
       "      <td>0</td>\n",
       "      <td>0</td>\n",
       "      <td>5</td>\n",
       "      <td>6</td>\n",
       "      <td>5</td>\n",
       "      <td>12.000000</td>\n",
       "      <td>0</td>\n",
       "      <td>9.4</td>\n",
       "      <td>-0.8</td>\n",
       "      <td>-3.12</td>\n",
       "    </tr>\n",
       "    <tr>\n",
       "      <th>4423</th>\n",
       "      <td>1</td>\n",
       "      <td>10</td>\n",
       "      <td>1</td>\n",
       "      <td>9773</td>\n",
       "      <td>1</td>\n",
       "      <td>1</td>\n",
       "      <td>152.0</td>\n",
       "      <td>22</td>\n",
       "      <td>38</td>\n",
       "      <td>37</td>\n",
       "      <td>...</td>\n",
       "      <td>0</td>\n",
       "      <td>0</td>\n",
       "      <td>6</td>\n",
       "      <td>6</td>\n",
       "      <td>6</td>\n",
       "      <td>13.000000</td>\n",
       "      <td>0</td>\n",
       "      <td>12.7</td>\n",
       "      <td>3.7</td>\n",
       "      <td>-1.70</td>\n",
       "    </tr>\n",
       "  </tbody>\n",
       "</table>\n",
       "<p>4424 rows × 36 columns</p>\n",
       "</div>"
      ],
      "text/plain": [
       "      Marital status  Application mode  Application order  Course  \\\n",
       "0                  1                17                  5     171   \n",
       "1                  1                15                  1    9254   \n",
       "2                  1                 1                  5    9070   \n",
       "3                  1                17                  2    9773   \n",
       "4                  2                39                  1    8014   \n",
       "...              ...               ...                ...     ...   \n",
       "4419               1                 1                  6    9773   \n",
       "4420               1                 1                  2    9773   \n",
       "4421               1                 1                  1    9500   \n",
       "4422               1                 1                  1    9147   \n",
       "4423               1                10                  1    9773   \n",
       "\n",
       "      Daytime/evening attendance\\t  Previous qualification  \\\n",
       "0                                1                       1   \n",
       "1                                1                       1   \n",
       "2                                1                       1   \n",
       "3                                1                       1   \n",
       "4                                0                       1   \n",
       "...                            ...                     ...   \n",
       "4419                             1                       1   \n",
       "4420                             1                       1   \n",
       "4421                             1                       1   \n",
       "4422                             1                       1   \n",
       "4423                             1                       1   \n",
       "\n",
       "      Previous qualification (grade)  Nacionality  Mother's qualification  \\\n",
       "0                              122.0            1                      19   \n",
       "1                              160.0            1                       1   \n",
       "2                              122.0            1                      37   \n",
       "3                              122.0            1                      38   \n",
       "4                              100.0            1                      37   \n",
       "...                              ...          ...                     ...   \n",
       "4419                           125.0            1                       1   \n",
       "4420                           120.0          105                       1   \n",
       "4421                           154.0            1                      37   \n",
       "4422                           180.0            1                      37   \n",
       "4423                           152.0           22                      38   \n",
       "\n",
       "      Father's qualification  ...  \\\n",
       "0                         12  ...   \n",
       "1                          3  ...   \n",
       "2                         37  ...   \n",
       "3                         37  ...   \n",
       "4                         38  ...   \n",
       "...                      ...  ...   \n",
       "4419                       1  ...   \n",
       "4420                       1  ...   \n",
       "4421                      37  ...   \n",
       "4422                      37  ...   \n",
       "4423                      37  ...   \n",
       "\n",
       "      Curricular units 1st sem (without evaluations)  \\\n",
       "0                                                  0   \n",
       "1                                                  0   \n",
       "2                                                  0   \n",
       "3                                                  0   \n",
       "4                                                  0   \n",
       "...                                              ...   \n",
       "4419                                               0   \n",
       "4420                                               0   \n",
       "4421                                               0   \n",
       "4422                                               0   \n",
       "4423                                               0   \n",
       "\n",
       "      Curricular units 2nd sem (credited)  \\\n",
       "0                                       0   \n",
       "1                                       0   \n",
       "2                                       0   \n",
       "3                                       0   \n",
       "4                                       0   \n",
       "...                                   ...   \n",
       "4419                                    0   \n",
       "4420                                    0   \n",
       "4421                                    0   \n",
       "4422                                    0   \n",
       "4423                                    0   \n",
       "\n",
       "      Curricular units 2nd sem (enrolled)  \\\n",
       "0                                       0   \n",
       "1                                       6   \n",
       "2                                       6   \n",
       "3                                       6   \n",
       "4                                       6   \n",
       "...                                   ...   \n",
       "4419                                    6   \n",
       "4420                                    6   \n",
       "4421                                    8   \n",
       "4422                                    5   \n",
       "4423                                    6   \n",
       "\n",
       "      Curricular units 2nd sem (evaluations)  \\\n",
       "0                                          0   \n",
       "1                                          6   \n",
       "2                                          0   \n",
       "3                                         10   \n",
       "4                                          6   \n",
       "...                                      ...   \n",
       "4419                                       8   \n",
       "4420                                       6   \n",
       "4421                                       9   \n",
       "4422                                       6   \n",
       "4423                                       6   \n",
       "\n",
       "      Curricular units 2nd sem (approved)  Curricular units 2nd sem (grade)  \\\n",
       "0                                       0                          0.000000   \n",
       "1                                       6                         13.666667   \n",
       "2                                       0                          0.000000   \n",
       "3                                       5                         12.400000   \n",
       "4                                       6                         13.000000   \n",
       "...                                   ...                               ...   \n",
       "4419                                    5                         12.666667   \n",
       "4420                                    2                         11.000000   \n",
       "4421                                    1                         13.500000   \n",
       "4422                                    5                         12.000000   \n",
       "4423                                    6                         13.000000   \n",
       "\n",
       "      Curricular units 2nd sem (without evaluations)  Unemployment rate  \\\n",
       "0                                                  0               10.8   \n",
       "1                                                  0               13.9   \n",
       "2                                                  0               10.8   \n",
       "3                                                  0                9.4   \n",
       "4                                                  0               13.9   \n",
       "...                                              ...                ...   \n",
       "4419                                               0               15.5   \n",
       "4420                                               0               11.1   \n",
       "4421                                               0               13.9   \n",
       "4422                                               0                9.4   \n",
       "4423                                               0               12.7   \n",
       "\n",
       "      Inflation rate   GDP  \n",
       "0                1.4  1.74  \n",
       "1               -0.3  0.79  \n",
       "2                1.4  1.74  \n",
       "3               -0.8 -3.12  \n",
       "4               -0.3  0.79  \n",
       "...              ...   ...  \n",
       "4419             2.8 -4.06  \n",
       "4420             0.6  2.02  \n",
       "4421            -0.3  0.79  \n",
       "4422            -0.8 -3.12  \n",
       "4423             3.7 -1.70  \n",
       "\n",
       "[4424 rows x 36 columns]"
      ]
     },
     "execution_count": 18,
     "metadata": {},
     "output_type": "execute_result"
    }
   ],
   "source": [
    "school_num"
   ]
  },
  {
   "cell_type": "code",
   "execution_count": 19,
   "id": "c78ebdba",
   "metadata": {
    "ExecuteTime": {
     "end_time": "2022-11-03T06:57:06.128982Z",
     "start_time": "2022-11-03T06:57:06.124974Z"
    }
   },
   "outputs": [],
   "source": [
    "#set train and test sets of the data\n",
    "train_set, test_set = train_test_split(data, test_size=0.2, random_state=42)"
   ]
  },
  {
   "cell_type": "code",
   "execution_count": 20,
   "id": "057d8c7d",
   "metadata": {
    "ExecuteTime": {
     "end_time": "2022-11-03T06:57:14.880651Z",
     "start_time": "2022-11-03T06:57:14.876715Z"
    }
   },
   "outputs": [
    {
     "data": {
      "text/plain": [
       "3539"
      ]
     },
     "execution_count": 20,
     "metadata": {},
     "output_type": "execute_result"
    }
   ],
   "source": [
    "len(train_set)"
   ]
  },
  {
   "cell_type": "code",
   "execution_count": 21,
   "id": "481dd995",
   "metadata": {
    "ExecuteTime": {
     "end_time": "2022-11-03T07:12:16.004071Z",
     "start_time": "2022-11-03T07:12:16.001418Z"
    }
   },
   "outputs": [],
   "source": [
    "train_set_copy = train_set.copy()"
   ]
  },
  {
   "cell_type": "code",
   "execution_count": 22,
   "id": "67e314b5",
   "metadata": {
    "ExecuteTime": {
     "end_time": "2022-11-03T07:12:37.179807Z",
     "start_time": "2022-11-03T07:12:37.176144Z"
    }
   },
   "outputs": [
    {
     "data": {
      "text/plain": [
       "885"
      ]
     },
     "execution_count": 22,
     "metadata": {},
     "output_type": "execute_result"
    }
   ],
   "source": [
    "len(test_set)"
   ]
  },
  {
   "cell_type": "code",
   "execution_count": 23,
   "id": "4310c516",
   "metadata": {
    "ExecuteTime": {
     "end_time": "2022-11-03T07:12:43.285208Z",
     "start_time": "2022-11-03T07:12:43.274145Z"
    }
   },
   "outputs": [
    {
     "ename": "NameError",
     "evalue": "name 'y' is not defined",
     "output_type": "error",
     "traceback": [
      "\u001b[1;31m---------------------------------------------------------------------------\u001b[0m",
      "\u001b[1;31mNameError\u001b[0m                                 Traceback (most recent call last)",
      "\u001b[1;32m~\\AppData\\Local\\Temp\\ipykernel_12612\\1040143283.py\u001b[0m in \u001b[0;36m<module>\u001b[1;34m\u001b[0m\n\u001b[1;32m----> 1\u001b[1;33m \u001b[0my_train_graduate\u001b[0m \u001b[1;33m=\u001b[0m \u001b[1;33m(\u001b[0m\u001b[0my\u001b[0m\u001b[1;33m)\u001b[0m\u001b[1;33m\u001b[0m\u001b[1;33m\u001b[0m\u001b[0m\n\u001b[0m",
      "\u001b[1;31mNameError\u001b[0m: name 'y' is not defined"
     ]
    }
   ],
   "source": [
    "y_train_graduate = (y)"
   ]
  },
  {
   "cell_type": "code",
   "execution_count": null,
   "id": "8a990787",
   "metadata": {
    "ExecuteTime": {
     "end_time": "2022-11-03T07:12:57.474180Z",
     "start_time": "2022-11-03T07:12:57.472176Z"
    }
   },
   "outputs": [],
   "source": [
    "attr = ['']"
   ]
  },
  {
   "cell_type": "code",
   "execution_count": null,
   "id": "99e343c2",
   "metadata": {
    "ExecuteTime": {
     "end_time": "2022-11-03T07:12:59.261453Z",
     "start_time": "2022-11-03T07:12:59.259402Z"
    }
   },
   "outputs": [],
   "source": [
    "#data['Tuition fees up to date'], data['Marital status']"
   ]
  },
  {
   "cell_type": "code",
   "execution_count": null,
   "id": "3a95ee56",
   "metadata": {
    "ExecuteTime": {
     "end_time": "2022-11-03T07:13:00.001111Z",
     "start_time": "2022-11-03T07:12:59.939107Z"
    }
   },
   "outputs": [],
   "source": [
    "data.describe()"
   ]
  },
  {
   "cell_type": "code",
   "execution_count": null,
   "id": "67654008",
   "metadata": {
    "ExecuteTime": {
     "end_time": "2022-11-03T07:13:08.330694Z",
     "start_time": "2022-11-03T07:13:08.322343Z"
    }
   },
   "outputs": [],
   "source": [
    "data.info()"
   ]
  },
  {
   "cell_type": "code",
   "execution_count": null,
   "id": "5ac38842",
   "metadata": {
    "ExecuteTime": {
     "end_time": "2022-11-03T07:14:38.433613Z",
     "start_time": "2022-11-03T07:14:33.834769Z"
    }
   },
   "outputs": [],
   "source": [
    "data.hist(bins=50, figsize=(35,20))\n",
    "plt.show()"
   ]
  },
  {
   "cell_type": "code",
   "execution_count": null,
   "id": "282e30f0",
   "metadata": {
    "ExecuteTime": {
     "end_time": "2022-11-03T07:15:14.324326Z",
     "start_time": "2022-11-03T07:15:14.321883Z"
    }
   },
   "outputs": [],
   "source": [
    "df=data"
   ]
  },
  {
   "cell_type": "code",
   "execution_count": null,
   "id": "26a638b7",
   "metadata": {},
   "outputs": [],
   "source": [
    "df['Curricular units 2nd sem (grades)'] =pd.cut(data['Curricular units 2nd sem (grade)'], bins=[0., 1.5, 3.0, 4.5, 6., np.inf], \n",
    "                                               labels=[1, 2, 3, 4, 5])\n",
    "df['Curricular units 2nd sem (grades)'].hist()"
   ]
  },
  {
   "cell_type": "code",
   "execution_count": null,
   "id": "53da7c31",
   "metadata": {
    "ExecuteTime": {
     "end_time": "2022-11-03T07:15:38.651528Z",
     "start_time": "2022-11-03T07:15:38.647087Z"
    }
   },
   "outputs": [],
   "source": [
    "#encoding the target data into a numerical format\n",
    "type(data)"
   ]
  },
  {
   "cell_type": "code",
   "execution_count": null,
   "id": "f11efb6e",
   "metadata": {
    "ExecuteTime": {
     "end_time": "2022-11-03T07:15:39.751290Z",
     "start_time": "2022-11-03T07:15:39.747366Z"
    }
   },
   "outputs": [],
   "source": [
    "data['Target'].values"
   ]
  },
  {
   "cell_type": "code",
   "execution_count": null,
   "id": "f2baba9b",
   "metadata": {
    "ExecuteTime": {
     "end_time": "2022-11-03T07:15:41.816031Z",
     "start_time": "2022-11-03T07:15:41.810002Z"
    }
   },
   "outputs": [],
   "source": [
    "data.isnull().any() #check for missing values "
   ]
  },
  {
   "cell_type": "code",
   "execution_count": null,
   "id": "a3518321",
   "metadata": {
    "ExecuteTime": {
     "end_time": "2022-11-03T07:17:20.155666Z",
     "start_time": "2022-11-03T07:17:20.135343Z"
    }
   },
   "outputs": [],
   "source": [
    "#view unique labels in columns\n",
    "for item in data.columns:\n",
    "    print(item)\n",
    "    print (data[item].unique())"
   ]
  },
  {
   "cell_type": "code",
   "execution_count": null,
   "id": "6d78bda6",
   "metadata": {
    "ExecuteTime": {
     "end_time": "2022-11-03T07:17:23.975951Z",
     "start_time": "2022-11-03T07:17:23.959897Z"
    },
    "scrolled": true
   },
   "outputs": [],
   "source": [
    "#use a correlation matrix to see how attributes relate to each other \n",
    "corr_matrix = data.corr()\n",
    "corr_matrix['Target Encoded'].sort_values(ascending=False)"
   ]
  },
  {
   "cell_type": "code",
   "execution_count": null,
   "id": "e03396ca",
   "metadata": {
    "ExecuteTime": {
     "end_time": "2022-11-03T07:17:44.444142Z",
     "start_time": "2022-11-03T07:17:43.834709Z"
    }
   },
   "outputs": [],
   "source": [
    "#visualising the correlation \n",
    "plt.figure(figsize=(15,8))\n",
    "data.corr()['Target Encoded'].sort_values(ascending = False).plot(kind='bar')"
   ]
  },
  {
   "cell_type": "code",
   "execution_count": null,
   "id": "79ff628e",
   "metadata": {
    "ExecuteTime": {
     "end_time": "2022-11-03T07:18:57.241119Z",
     "start_time": "2022-11-03T07:18:56.361362Z"
    }
   },
   "outputs": [],
   "source": [
    "#correlation of features with each other \n",
    "corr=school_num.corr().iloc[:,:] \n",
    "c1 = corr.abs().unstack()\n",
    "c1.sort_values(ascending = False)\n",
    "\n",
    "plt.subplots(figsize=(20,15))\n",
    "sns.heatmap(corr,annot=False,cmap=\"YlGnBu\")"
   ]
  },
  {
   "cell_type": "code",
   "execution_count": null,
   "id": "36e91bae",
   "metadata": {
    "ExecuteTime": {
     "end_time": "2022-11-03T07:19:47.696627Z",
     "start_time": "2022-11-03T07:19:46.434824Z"
    },
    "scrolled": true
   },
   "outputs": [],
   "source": [
    "#scatter matrix to plot the correlation between attributes \n",
    "arr = ['Curricular units 2nd sem (approved)', 'Curricular units 2nd sem (grade)', \n",
    "       'Curricular units 1st sem (approved)', 'Tuition fees up to date','Target']\n",
    "scatter_matrix(data[arr], figsize=(20, 15), alpha=0.1)"
   ]
  },
  {
   "cell_type": "code",
   "execution_count": null,
   "id": "0b9fb809",
   "metadata": {
    "ExecuteTime": {
     "end_time": "2022-11-03T07:19:52.846298Z",
     "start_time": "2022-11-03T07:19:52.735522Z"
    }
   },
   "outputs": [],
   "source": [
    "#correlation scatter plot of 2nd semester passed\n",
    "data.plot(kind='scatter', x='Target', y='Curricular units 1st sem (grade)',\n",
    "         alpha=0.1)"
   ]
  },
  {
   "cell_type": "code",
   "execution_count": null,
   "id": "d7ce65e0",
   "metadata": {
    "ExecuteTime": {
     "end_time": "2022-11-03T07:19:58.320921Z",
     "start_time": "2022-11-03T07:19:58.213311Z"
    }
   },
   "outputs": [],
   "source": [
    "#visualising the distribution of students academic progression \n",
    "from matplotlib.pyplot import suptitle\n",
    "import seaborn as sns\n",
    "from seaborn import despine\n",
    "\n",
    "sns.set(style=\"whitegrid\")\n",
    "\n",
    "ax=sns.countplot(x='Target',palette=\"Set3\", data=data)\n",
    "ax.set_xticklabels([\"Dropout\",\"Graduate\", 'Enrolled'])\n",
    "ax.set_ylabel(\"No of Students\")\n",
    "ax.set_xlabel(\"Academic Progression\")\n",
    "suptitle(\"Distribution of Student Academic Progression\")\n",
    "despine()"
   ]
  },
  {
   "cell_type": "code",
   "execution_count": null,
   "id": "92c2f878",
   "metadata": {
    "ExecuteTime": {
     "end_time": "2022-11-03T07:20:04.012051Z",
     "start_time": "2022-11-03T07:20:03.850660Z"
    }
   },
   "outputs": [],
   "source": [
    "#describe of the target variables \n",
    "data.groupby('Target').describe()"
   ]
  },
  {
   "cell_type": "code",
   "execution_count": null,
   "id": "7c742ddb",
   "metadata": {},
   "outputs": [],
   "source": [
    "data.describe()"
   ]
  },
  {
   "cell_type": "code",
   "execution_count": null,
   "id": "a4ad8a97",
   "metadata": {
    "ExecuteTime": {
     "end_time": "2022-11-03T07:20:22.287709Z",
     "start_time": "2022-11-03T07:20:22.284767Z"
    }
   },
   "outputs": [],
   "source": [
    "#checking a few values using a scatterplot\n",
    "#attributes = ['Course']\n",
    "data.shape #check the shape of the data, contains 4424 values, 37 features"
   ]
  },
  {
   "cell_type": "code",
   "execution_count": null,
   "id": "8ea8f630",
   "metadata": {
    "ExecuteTime": {
     "end_time": "2022-08-26T14:39:31.400856Z",
     "start_time": "2022-08-26T14:39:30.066304Z"
    }
   },
   "outputs": [],
   "source": [
    "#data['Gender'].astype #cast an entire object to a specific type \n"
   ]
  },
  {
   "cell_type": "code",
   "execution_count": null,
   "id": "75f9d76d",
   "metadata": {
    "ExecuteTime": {
     "end_time": "2022-08-26T14:39:47.860114Z",
     "start_time": "2022-08-26T14:39:47.854573Z"
    }
   },
   "outputs": [],
   "source": [
    "data.dtypes"
   ]
  },
  {
   "cell_type": "code",
   "execution_count": null,
   "id": "8823a29f",
   "metadata": {
    "ExecuteTime": {
     "end_time": "2022-11-03T07:20:28.702924Z",
     "start_time": "2022-11-03T07:20:28.698182Z"
    }
   },
   "outputs": [],
   "source": [
    "data['Target'].value_counts() #find what categories exist , and the no that belong to them "
   ]
  },
  {
   "cell_type": "code",
   "execution_count": null,
   "id": "cb0be580",
   "metadata": {
    "ExecuteTime": {
     "end_time": "2022-11-03T07:20:34.296071Z",
     "start_time": "2022-11-03T07:20:34.288455Z"
    }
   },
   "outputs": [],
   "source": [
    "x_data= school_num\n",
    "scaler = preprocessing.MinMaxScaler()\n",
    "x_scaled = scaler.fit_transform(x_data)"
   ]
  },
  {
   "cell_type": "code",
   "execution_count": null,
   "id": "32de69f8",
   "metadata": {
    "ExecuteTime": {
     "end_time": "2022-11-03T07:20:37.377645Z",
     "start_time": "2022-11-03T07:20:37.373059Z"
    }
   },
   "outputs": [],
   "source": [
    "x_scaled"
   ]
  },
  {
   "cell_type": "code",
   "execution_count": null,
   "id": "85044ce4",
   "metadata": {
    "ExecuteTime": {
     "end_time": "2022-11-03T07:20:47.681381Z",
     "start_time": "2022-11-03T07:20:47.676464Z"
    }
   },
   "outputs": [],
   "source": [
    "#splitting the data\n",
    "from sklearn.model_selection import StratifiedKFold\n",
    "X = school_num.iloc[:,school_num.columns != 'Target Encoded']\n",
    "y = school_num.iloc[:, school_num.columns == 'Target Encoded']\n",
    "print('Shape of X: {}'.format(X.shape))\n",
    "print('Shape of y: {}'.format(y.shape))"
   ]
  },
  {
   "cell_type": "code",
   "execution_count": null,
   "id": "e8fa5f77",
   "metadata": {
    "ExecuteTime": {
     "end_time": "2022-11-03T07:20:54.466882Z",
     "start_time": "2022-11-03T07:20:54.462294Z"
    }
   },
   "outputs": [],
   "source": [
    "skf = StratifiedKFold(n_splits=10, shuffle=True, random_state=1)\n",
    "skf.get_n_splits(X, y)"
   ]
  },
  {
   "cell_type": "code",
   "execution_count": null,
   "id": "7cc5eb83",
   "metadata": {
    "ExecuteTime": {
     "end_time": "2022-11-03T07:20:57.851021Z",
     "start_time": "2022-11-03T07:20:57.847926Z"
    }
   },
   "outputs": [],
   "source": [
    "print(skf)"
   ]
  },
  {
   "cell_type": "code",
   "execution_count": null,
   "id": "293d0598",
   "metadata": {
    "ExecuteTime": {
     "end_time": "2022-11-03T07:21:05.149866Z",
     "start_time": "2022-11-03T07:21:05.147576Z"
    }
   },
   "outputs": [],
   "source": [
    "#random forest classifer \n",
    "clf = RandomForestClassifier(max_depth=2, random_state=0)"
   ]
  },
  {
   "cell_type": "code",
   "execution_count": null,
   "id": "1a563634",
   "metadata": {
    "ExecuteTime": {
     "end_time": "2022-11-03T07:22:36.388247Z",
     "start_time": "2022-11-03T07:22:34.723067Z"
    }
   },
   "outputs": [],
   "source": [
    "#performing stratified kfold validation and training a random forest classifier \n",
    "for train_index, test_index in skf.split(x_scaled, y):\n",
    "    #print(\"TRAIN:\", train_index, \"TEST:\", test_index)\n",
    "    X_train = X.iloc[train_index]\n",
    "    y_train = y.iloc[train_index]\n",
    "    X_test = X.iloc[test_index]\n",
    "    y_test = y.iloc[test_index]\n",
    "    clf.fit(X_train,y_train.values.ravel())\n",
    "    rfc_pred = clf.predict(X_test)\n",
    "    print('Accuracy:',accuracy_score(y_test,rfc_pred))"
   ]
  },
  {
   "cell_type": "code",
   "execution_count": null,
   "id": "2e8c5abe",
   "metadata": {
    "ExecuteTime": {
     "end_time": "2022-11-03T07:22:40.713470Z",
     "start_time": "2022-11-03T07:22:40.274801Z"
    }
   },
   "outputs": [],
   "source": [
    "from sklearn.model_selection import cross_val_predict\n",
    "\n",
    "y_train_pred = cross_val_predict(clf, X_train, y_train.values.ravel(), cv =3)"
   ]
  },
  {
   "cell_type": "code",
   "execution_count": null,
   "id": "e20f74ab",
   "metadata": {
    "ExecuteTime": {
     "end_time": "2022-11-03T07:24:49.293491Z",
     "start_time": "2022-11-03T07:24:49.288602Z"
    }
   },
   "outputs": [],
   "source": [
    "confusion_matrix(y_train, y_train_pred)"
   ]
  },
  {
   "cell_type": "code",
   "execution_count": null,
   "id": "c9ff701f",
   "metadata": {
    "ExecuteTime": {
     "end_time": "2022-11-03T07:25:41.726532Z",
     "start_time": "2022-11-03T07:25:41.723040Z"
    }
   },
   "outputs": [],
   "source": [
    "from sklearn.metrics import confusion_matrix\n",
    "confusion_matrix_forest = confusion_matrix(y_test, rfc_pred)\n",
    "print(confusion_matrix_forest)"
   ]
  },
  {
   "cell_type": "code",
   "execution_count": null,
   "id": "3e84cd88",
   "metadata": {
    "ExecuteTime": {
     "end_time": "2022-11-03T07:25:53.601050Z",
     "start_time": "2022-11-03T07:25:53.435217Z"
    }
   },
   "outputs": [],
   "source": [
    "#plotting a confusion matrix\n",
    "labels = ['Dropout', 'Enrolled', 'Graduate']\n",
    "plt.figure(figsize=(7,5))\n",
    "ax= plt.subplot()\n",
    "sns.heatmap(confusion_matrix_forest,cmap=\"Blues\",annot=True,fmt='.1f', ax = ax); #annot=True to annotate cells\n",
    "\n",
    "# labels, title and ticks\n",
    "ax.set_xticklabels(labels)\n",
    "ax.set_yticklabels(labels)\n",
    "ax.set_xlabel('Predicted labels');ax.set_ylabel('True labels'); \n",
    "ax.set_title('Confusion Matrix Random Forests'); "
   ]
  },
  {
   "cell_type": "code",
   "execution_count": null,
   "id": "09ee069b",
   "metadata": {
    "ExecuteTime": {
     "end_time": "2022-11-03T07:25:56.515412Z",
     "start_time": "2022-11-03T07:25:56.510890Z"
    }
   },
   "outputs": [],
   "source": [
    "F1_score = metrics.f1_score(y_test, rfc_pred, average='micro')\n",
    "print('F1 score: ', F1_score)"
   ]
  },
  {
   "cell_type": "code",
   "execution_count": null,
   "id": "82d820ae",
   "metadata": {
    "ExecuteTime": {
     "end_time": "2022-11-03T07:25:59.343005Z",
     "start_time": "2022-11-03T07:25:59.336091Z"
    }
   },
   "outputs": [],
   "source": [
    "from sklearn.metrics import classification_report\n",
    "print(classification_report(y_test, rfc_pred))"
   ]
  },
  {
   "cell_type": "code",
   "execution_count": null,
   "id": "f27bec9f",
   "metadata": {
    "ExecuteTime": {
     "end_time": "2022-11-03T07:26:46.247174Z",
     "start_time": "2022-11-03T07:26:46.110411Z"
    }
   },
   "outputs": [],
   "source": [
    "from sklearn.metrics import roc_curve\n",
    "from sklearn.metrics import RocCurveDisplay\n",
    "\n",
    "#store the values for the false positive and true positive rate, then display them in a \n",
    "#plot\n",
    "fpr, tpr, _ = roc_curve(y_test, rfc_pred, pos_label=clf.classes_[1])\n",
    "roc_display = RocCurveDisplay(fpr=fpr, tpr=tpr).plot()"
   ]
  },
  {
   "cell_type": "code",
   "execution_count": null,
   "id": "1ad86b9f",
   "metadata": {
    "ExecuteTime": {
     "end_time": "2022-11-03T07:26:53.938019Z",
     "start_time": "2022-11-03T07:26:53.934755Z"
    }
   },
   "outputs": [],
   "source": [
    "#performing grid search with 10kfold cross validation \n",
    "from sklearn.model_selection import GridSearchCV\n",
    "\n",
    "grid_search = GridSearchCV(cv=10, estimator=RandomForestClassifier (n_jobs=-1, random_state=42),\n",
    "             n_jobs =-1,\n",
    "             param_grid={'max_depth': [2, 3, 5, 10, 20],\n",
    "                         \"min_samples_leaf\": [5, 10, 20, 50, 100, 200],\n",
    "                         \"n_estimators\": [10, 25,30, 50, 100, 200]},scoring= 'accuracy',\n",
    "                         verbose=1)"
   ]
  },
  {
   "cell_type": "code",
   "execution_count": null,
   "id": "6b022ee6",
   "metadata": {
    "ExecuteTime": {
     "end_time": "2022-11-03T07:28:24.276451Z",
     "start_time": "2022-11-03T07:27:04.199870Z"
    }
   },
   "outputs": [],
   "source": [
    "grid_search.fit(X_train, y_train.values.ravel())"
   ]
  },
  {
   "cell_type": "code",
   "execution_count": null,
   "id": "a86c5360",
   "metadata": {
    "ExecuteTime": {
     "end_time": "2022-11-03T07:28:34.730581Z",
     "start_time": "2022-11-03T07:28:34.726419Z"
    }
   },
   "outputs": [],
   "source": [
    "#finding the best score \n",
    "grid_search.best_score_"
   ]
  },
  {
   "cell_type": "code",
   "execution_count": null,
   "id": "2efb00b0",
   "metadata": {
    "ExecuteTime": {
     "end_time": "2022-11-03T07:28:40.003090Z",
     "start_time": "2022-11-03T07:28:39.998708Z"
    }
   },
   "outputs": [],
   "source": [
    "#getting the best estimator\n",
    "rf_best = grid_search.best_estimator_\n",
    "rf_best"
   ]
  },
  {
   "cell_type": "code",
   "execution_count": null,
   "id": "c66ad478",
   "metadata": {
    "ExecuteTime": {
     "end_time": "2022-11-03T07:35:58.610629Z",
     "start_time": "2022-11-03T07:35:35.236349Z"
    }
   },
   "outputs": [],
   "source": [
    "#visualisation of the best estimator\n",
    "from sklearn.tree import plot_tree\n",
    "plt.figure(figsize=(30,30))\n",
    "plot_tree(rf_best.estimators_[5], \n",
    "          feature_names = X.columns,class_names=['Dropout', \"Enrolled\", 'Graduate'],\n",
    "          filled=True, fontsize=10);"
   ]
  },
  {
   "cell_type": "code",
   "execution_count": null,
   "id": "68c54f3b",
   "metadata": {
    "ExecuteTime": {
     "end_time": "2022-11-03T07:41:02.462506Z",
     "start_time": "2022-11-03T07:40:45.373445Z"
    }
   },
   "outputs": [],
   "source": [
    "from sklearn.tree import plot_tree\n",
    "plt.figure(figsize=(30,30))\n",
    "plot_tree(rf_best.estimators_[10],max_depth=10,\n",
    "          feature_names = X.columns,class_names=['Dropout', \"Enrolled\", 'Graduate'],\n",
    "          filled=True, fontsize=20);"
   ]
  },
  {
   "cell_type": "code",
   "execution_count": null,
   "id": "94261d7f",
   "metadata": {
    "ExecuteTime": {
     "end_time": "2022-11-03T07:41:58.169349Z",
     "start_time": "2022-11-03T07:41:54.586945Z"
    }
   },
   "outputs": [],
   "source": [
    "plt.figure(figsize=(15,5))\n",
    "plot_tree(rf_best.estimators_[1],max_depth=5,\n",
    "          feature_names = X.columns,class_names=['Dropout', \"Enrolled\", 'Graduate'],\n",
    "          filled=True, fontsize=8);"
   ]
  },
  {
   "cell_type": "code",
   "execution_count": null,
   "id": "3f5a709f",
   "metadata": {
    "ExecuteTime": {
     "end_time": "2022-11-03T07:42:41.121116Z",
     "start_time": "2022-11-03T07:42:41.098858Z"
    }
   },
   "outputs": [],
   "source": [
    "#sorting out the data for feature importance\n",
    "rf_best.feature_importances_"
   ]
  },
  {
   "cell_type": "code",
   "execution_count": null,
   "id": "928b361b",
   "metadata": {
    "ExecuteTime": {
     "end_time": "2022-11-03T07:42:46.199631Z",
     "start_time": "2022-11-03T07:42:46.176313Z"
    }
   },
   "outputs": [],
   "source": [
    "imp_df = pd.DataFrame({\n",
    "    \"Varname\": X_train.columns,\n",
    "    \"Imp\": rf_best.feature_importances_\n",
    "})"
   ]
  },
  {
   "cell_type": "code",
   "execution_count": null,
   "id": "c71a33d4",
   "metadata": {
    "ExecuteTime": {
     "end_time": "2022-11-03T07:42:48.557533Z",
     "start_time": "2022-11-03T07:42:48.549324Z"
    }
   },
   "outputs": [],
   "source": [
    "imp_df.sort_values(by=\"Imp\", ascending=False)"
   ]
  },
  {
   "cell_type": "code",
   "execution_count": null,
   "id": "4aacf879",
   "metadata": {
    "ExecuteTime": {
     "end_time": "2022-11-03T07:43:18.972128Z",
     "start_time": "2022-11-03T07:43:18.940948Z"
    }
   },
   "outputs": [],
   "source": [
    "#testing the new grid searched classifier on the test set \n",
    "y_pred_bestrfc = rf_best.predict(X_test)"
   ]
  },
  {
   "cell_type": "code",
   "execution_count": null,
   "id": "4968b17c",
   "metadata": {
    "ExecuteTime": {
     "end_time": "2022-11-03T07:43:27.064946Z",
     "start_time": "2022-11-03T07:43:27.062076Z"
    }
   },
   "outputs": [],
   "source": [
    "#getting the accuracy \n",
    "print('Accuracy:',accuracy_score(y_test,y_pred_bestrfc))"
   ]
  },
  {
   "cell_type": "code",
   "execution_count": null,
   "id": "7211d679",
   "metadata": {
    "ExecuteTime": {
     "end_time": "2022-11-03T07:43:32.953144Z",
     "start_time": "2022-11-03T07:43:32.949324Z"
    }
   },
   "outputs": [],
   "source": [
    "#confusion matrix of the new classifer \n",
    "confusion_matrix_forest = confusion_matrix(y_test, y_pred_bestrfc)\n",
    "print(confusion_matrix_forest)"
   ]
  },
  {
   "cell_type": "code",
   "execution_count": null,
   "id": "d9908db0",
   "metadata": {
    "ExecuteTime": {
     "end_time": "2022-11-03T07:43:36.482524Z",
     "start_time": "2022-11-03T07:43:36.311378Z"
    }
   },
   "outputs": [],
   "source": [
    "#visualising the confusion matrix \n",
    "labels = ['Dropout', 'Enrolled', 'Graduate']\n",
    "plt.figure(figsize=(7,5))\n",
    "ax= plt.subplot()\n",
    "sns.heatmap(confusion_matrix_forest,cmap=\"Blues\",annot=True,fmt='.1f', ax = ax); #annot=True to annotate cells\n",
    "\n",
    "# labels, title and ticks\n",
    "ax.set_xticklabels(labels)\n",
    "ax.set_yticklabels(labels)\n",
    "ax.set_xlabel('Predicted labels');ax.set_ylabel('True labels'); \n",
    "ax.set_title('Confusion Matrix Random Forests'); "
   ]
  },
  {
   "cell_type": "code",
   "execution_count": null,
   "id": "5f680f47",
   "metadata": {
    "ExecuteTime": {
     "end_time": "2022-11-03T07:43:39.254784Z",
     "start_time": "2022-11-03T07:43:39.248604Z"
    }
   },
   "outputs": [],
   "source": [
    "#validating the data \n",
    "print(classification_report(y_test, y_pred_bestrfc))"
   ]
  },
  {
   "cell_type": "code",
   "execution_count": null,
   "id": "cc614a6f",
   "metadata": {
    "ExecuteTime": {
     "end_time": "2022-11-03T07:43:42.354950Z",
     "start_time": "2022-11-03T07:43:42.322616Z"
    }
   },
   "outputs": [],
   "source": [
    "#plot the aoc\n",
    "from sklearn.metrics import classification_report\n",
    "from sklearn.metrics import roc_auc_score\n",
    "from sklearn.metrics import roc_curve,auc\n",
    "\n",
    "\n",
    "y_score_rfc = rf_best.predict_proba(X_test)[:,1]\n",
    "fpr, tpr,_ = roc_curve(y_test, y_score_rfc, pos_label=1)\n",
    "roc_auc_forests = auc(fpr, tpr)\n",
    "\n",
    "print(roc_auc_forests)"
   ]
  },
  {
   "cell_type": "code",
   "execution_count": null,
   "id": "69c0cfae",
   "metadata": {
    "ExecuteTime": {
     "end_time": "2022-11-03T07:44:40.288754Z",
     "start_time": "2022-11-03T07:44:40.149335Z"
    }
   },
   "outputs": [],
   "source": [
    "#ploting the roc curve for one of the classes after optimisation \n",
    "from sklearn.metrics import RocCurveDisplay\n",
    "\n",
    "\n",
    "\n",
    "fpr, tpr, _ = roc_curve(y_test, rfc_pred, pos_label=clf.classes_[0])\n",
    "roc_display = RocCurveDisplay(fpr=fpr, tpr=tpr).plot()"
   ]
  },
  {
   "cell_type": "code",
   "execution_count": null,
   "id": "356a85c6",
   "metadata": {
    "ExecuteTime": {
     "end_time": "2022-11-03T07:44:14.085895Z",
     "start_time": "2022-11-03T07:44:13.938970Z"
    }
   },
   "outputs": [],
   "source": [
    "fpr, tpr, _ = roc_curve(y_test, rfc_pred, pos_label=clf.classes_[1])\n",
    "roc_display = RocCurveDisplay(fpr=fpr, tpr=tpr).plot()"
   ]
  },
  {
   "cell_type": "code",
   "execution_count": null,
   "id": "fa3c5b62",
   "metadata": {
    "ExecuteTime": {
     "end_time": "2022-11-03T07:44:44.693919Z",
     "start_time": "2022-11-03T07:44:44.560817Z"
    }
   },
   "outputs": [],
   "source": [
    "fpr, tpr, _ = roc_curve(y_test, rfc_pred, pos_label=clf.classes_[2])\n",
    "roc_display = RocCurveDisplay(fpr=fpr, tpr=tpr).plot()"
   ]
  },
  {
   "cell_type": "code",
   "execution_count": null,
   "id": "f87cfddd",
   "metadata": {
    "ExecuteTime": {
     "end_time": "2022-11-03T07:44:48.357429Z",
     "start_time": "2022-11-03T07:44:48.314170Z"
    }
   },
   "outputs": [],
   "source": [
    "#check cross validation score \n",
    "rf_best.predict_proba(X_train)"
   ]
  },
  {
   "cell_type": "code",
   "execution_count": null,
   "id": "7f90fd9f",
   "metadata": {
    "ExecuteTime": {
     "end_time": "2022-08-11T21:31:21.048978Z",
     "start_time": "2022-08-11T21:31:21.036471Z"
    }
   },
   "outputs": [],
   "source": [
    "agronomy_drop = df_1.loc[(df_1['Course'] ==9003 ) & (df_1['Target'] == 'Dropout'),\n",
    "        ['Course', 'Target']]\n",
    "agronomy_drop.value_counts()"
   ]
  },
  {
   "cell_type": "code",
   "execution_count": null,
   "id": "52cb9182",
   "metadata": {
    "ExecuteTime": {
     "end_time": "2022-08-11T22:35:34.223884Z",
     "start_time": "2022-08-11T22:35:34.216245Z"
    }
   },
   "outputs": [],
   "source": [
    "admission_grade = df_1.loc[(df_1['Admission grade'] >100 ) & (df_1['Target'] == 'Dropout'),\n",
    "        ['Admission grade', 'Target']]\n",
    "admission_grade.items"
   ]
  },
  {
   "cell_type": "code",
   "execution_count": null,
   "id": "47fb7a74",
   "metadata": {
    "ExecuteTime": {
     "end_time": "2022-08-11T22:38:43.201115Z",
     "start_time": "2022-08-11T22:38:43.191787Z"
    }
   },
   "outputs": [],
   "source": [
    "gender = df_1.loc[(df_1['Gender'] ==1 ) & (df_1['Target'] == 'Dropout'),\n",
    "        ['Gender', 'Target']]\n",
    "total = 1335 - 701\n",
    "print(total)\n",
    "gender"
   ]
  },
  {
   "cell_type": "code",
   "execution_count": null,
   "id": "c5e475b9",
   "metadata": {
    "ExecuteTime": {
     "end_time": "2022-08-12T20:58:16.865502Z",
     "start_time": "2022-08-12T20:58:16.862539Z"
    }
   },
   "outputs": [],
   "source": [
    "len(gender)"
   ]
  },
  {
   "cell_type": "code",
   "execution_count": null,
   "id": "c7a84212",
   "metadata": {
    "ExecuteTime": {
     "end_time": "2022-08-11T22:40:11.450758Z",
     "start_time": "2022-08-11T22:40:11.441111Z"
    }
   },
   "outputs": [],
   "source": [
    "marital_stats = df_1.loc[(df_1['Marital status'] ==1 ) & (df_1['Target'] == 'Dropout'),\n",
    "        ['Marital status', 'Target']]\n",
    "marital_stats"
   ]
  },
  {
   "cell_type": "code",
   "execution_count": null,
   "id": "21a0326f",
   "metadata": {
    "ExecuteTime": {
     "end_time": "2022-08-11T22:41:58.203231Z",
     "start_time": "2022-08-11T22:41:58.178193Z"
    }
   },
   "outputs": [],
   "source": [
    "no_married =  data.loc[data['Marital status'] ==1]\n",
    "no_married"
   ]
  },
  {
   "cell_type": "code",
   "execution_count": null,
   "id": "cad3cb4a",
   "metadata": {
    "ExecuteTime": {
     "end_time": "2022-08-11T17:51:29.611374Z",
     "start_time": "2022-08-11T17:51:29.608130Z"
    }
   },
   "outputs": [],
   "source": [
    "df_1.columns\n"
   ]
  },
  {
   "cell_type": "code",
   "execution_count": null,
   "id": "396a6a18",
   "metadata": {
    "ExecuteTime": {
     "end_time": "2022-08-11T21:26:21.516499Z",
     "start_time": "2022-08-11T21:26:21.507085Z"
    }
   },
   "outputs": [],
   "source": [
    "#no of students who dropped out after the first semester\n",
    "#df_1.loc[(df_1['Curricular units 1st sem (grade)'] >0 ) & (df_1['Target'] == 'Dropout'),\n",
    "        # ['Curricular units 1st sem (grade)', 'Target']]\n",
    "df_1.loc[df_1['Curricular units 1st sem (grade)'] >0, ['Curricular units 1st sem (grade)', 'Target']]"
   ]
  },
  {
   "cell_type": "code",
   "execution_count": null,
   "id": "84576e5d",
   "metadata": {
    "ExecuteTime": {
     "end_time": "2022-08-12T18:21:03.908452Z",
     "start_time": "2022-08-12T18:21:03.903508Z"
    }
   },
   "outputs": [],
   "source": [
    "course_dropouts = df_1['Course'].value_counts()\n",
    "course_dropouts"
   ]
  },
  {
   "cell_type": "code",
   "execution_count": null,
   "id": "6d477bd7",
   "metadata": {
    "ExecuteTime": {
     "end_time": "2022-08-12T18:20:18.346600Z",
     "start_time": "2022-08-12T18:20:18.342043Z"
    }
   },
   "outputs": [],
   "source": [
    "course_nos =data['Course'].value_counts() #count the values of course type\n",
    "course_nos"
   ]
  },
  {
   "cell_type": "code",
   "execution_count": null,
   "id": "ab5caa90",
   "metadata": {
    "ExecuteTime": {
     "end_time": "2022-08-12T18:29:28.785393Z",
     "start_time": "2022-08-12T18:29:28.782294Z"
    }
   },
   "outputs": [],
   "source": [
    "total_students = sum(course_nos)\n",
    "total_dropouts = sum(course_dropouts) #get the total no of students that have enrolled and dropped out\n",
    "students_left = total_students - total_dropouts\n",
    "print('Total no of Students :', total_students, '\\nTotal no of dropouts:', total_dropouts,\n",
    "     '\\nStudents left after dropout :', students_left)\n"
   ]
  },
  {
   "cell_type": "code",
   "execution_count": null,
   "id": "d6e35340",
   "metadata": {},
   "outputs": [],
   "source": []
  }
 ],
 "metadata": {
  "kernelspec": {
   "display_name": "Python 3 (ipykernel)",
   "language": "python",
   "name": "python3"
  },
  "language_info": {
   "codemirror_mode": {
    "name": "ipython",
    "version": 3
   },
   "file_extension": ".py",
   "mimetype": "text/x-python",
   "name": "python",
   "nbconvert_exporter": "python",
   "pygments_lexer": "ipython3",
   "version": "3.9.0"
  },
  "toc": {
   "base_numbering": 1,
   "nav_menu": {},
   "number_sections": true,
   "sideBar": true,
   "skip_h1_title": false,
   "title_cell": "Table of Contents",
   "title_sidebar": "Contents",
   "toc_cell": false,
   "toc_position": {},
   "toc_section_display": true,
   "toc_window_display": false
  },
  "varInspector": {
   "cols": {
    "lenName": 16,
    "lenType": 16,
    "lenVar": 40
   },
   "kernels_config": {
    "python": {
     "delete_cmd_postfix": "",
     "delete_cmd_prefix": "del ",
     "library": "var_list.py",
     "varRefreshCmd": "print(var_dic_list())"
    },
    "r": {
     "delete_cmd_postfix": ") ",
     "delete_cmd_prefix": "rm(",
     "library": "var_list.r",
     "varRefreshCmd": "cat(var_dic_list()) "
    }
   },
   "types_to_exclude": [
    "module",
    "function",
    "builtin_function_or_method",
    "instance",
    "_Feature"
   ],
   "window_display": false
  }
 },
 "nbformat": 4,
 "nbformat_minor": 5
}
